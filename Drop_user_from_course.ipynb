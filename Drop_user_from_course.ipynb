{
 "cells": [
  {
   "cell_type": "code",
   "execution_count": 254,
   "id": "a1e7e189",
   "metadata": {
    "ExecuteTime": {
     "end_time": "2023-07-04T19:39:48.427820300Z",
     "start_time": "2023-07-04T19:39:48.403311200Z"
    }
   },
   "outputs": [],
   "source": [
    "import pandas as pd\n",
    "import numpy as np"
   ]
  },
  {
   "cell_type": "code",
   "execution_count": 255,
   "id": "045dbe1a",
   "metadata": {
    "ExecuteTime": {
     "end_time": "2023-07-04T19:39:48.783622Z",
     "start_time": "2023-07-04T19:39:48.749556500Z"
    }
   },
   "outputs": [],
   "source": [
    "%matplotlib inline"
   ]
  },
  {
   "cell_type": "code",
   "execution_count": 256,
   "id": "eecf1924",
   "metadata": {
    "ExecuteTime": {
     "end_time": "2023-07-04T19:39:49.030410900Z",
     "start_time": "2023-07-04T19:39:49.015455500Z"
    }
   },
   "outputs": [],
   "source": [
    "import matplotlib.pyplot as plt\n",
    "import seaborn as sns"
   ]
  },
  {
   "cell_type": "code",
   "execution_count": 257,
   "id": "06d3b910",
   "metadata": {
    "ExecuteTime": {
     "end_time": "2023-07-04T19:39:50.164185Z",
     "start_time": "2023-07-04T19:39:49.235199200Z"
    }
   },
   "outputs": [],
   "source": [
    "events_data = pd.read_csv('static/First_contest//event_data_train.csv')"
   ]
  },
  {
   "cell_type": "code",
   "execution_count": 258,
   "id": "dff11365",
   "metadata": {
    "ExecuteTime": {
     "end_time": "2023-07-04T19:39:50.203674800Z",
     "start_time": "2023-07-04T19:39:50.165183800Z"
    }
   },
   "outputs": [
    {
     "data": {
      "text/plain": "   step_id   timestamp           action  user_id\n0    32815  1434340848           viewed    17632\n1    32815  1434340848           passed    17632\n2    32815  1434340848       discovered    17632\n3    32811  1434340895       discovered    17632\n4    32811  1434340895           viewed    17632\n5    32811  1434340895           passed    17632\n6    32929  1434340921       discovered    17632\n7    32929  1434340921           viewed    17632\n8    32929  1434340939  started_attempt    17632\n9    32929  1434340944           passed    17632",
      "text/html": "<div>\n<style scoped>\n    .dataframe tbody tr th:only-of-type {\n        vertical-align: middle;\n    }\n\n    .dataframe tbody tr th {\n        vertical-align: top;\n    }\n\n    .dataframe thead th {\n        text-align: right;\n    }\n</style>\n<table border=\"1\" class=\"dataframe\">\n  <thead>\n    <tr style=\"text-align: right;\">\n      <th></th>\n      <th>step_id</th>\n      <th>timestamp</th>\n      <th>action</th>\n      <th>user_id</th>\n    </tr>\n  </thead>\n  <tbody>\n    <tr>\n      <th>0</th>\n      <td>32815</td>\n      <td>1434340848</td>\n      <td>viewed</td>\n      <td>17632</td>\n    </tr>\n    <tr>\n      <th>1</th>\n      <td>32815</td>\n      <td>1434340848</td>\n      <td>passed</td>\n      <td>17632</td>\n    </tr>\n    <tr>\n      <th>2</th>\n      <td>32815</td>\n      <td>1434340848</td>\n      <td>discovered</td>\n      <td>17632</td>\n    </tr>\n    <tr>\n      <th>3</th>\n      <td>32811</td>\n      <td>1434340895</td>\n      <td>discovered</td>\n      <td>17632</td>\n    </tr>\n    <tr>\n      <th>4</th>\n      <td>32811</td>\n      <td>1434340895</td>\n      <td>viewed</td>\n      <td>17632</td>\n    </tr>\n    <tr>\n      <th>5</th>\n      <td>32811</td>\n      <td>1434340895</td>\n      <td>passed</td>\n      <td>17632</td>\n    </tr>\n    <tr>\n      <th>6</th>\n      <td>32929</td>\n      <td>1434340921</td>\n      <td>discovered</td>\n      <td>17632</td>\n    </tr>\n    <tr>\n      <th>7</th>\n      <td>32929</td>\n      <td>1434340921</td>\n      <td>viewed</td>\n      <td>17632</td>\n    </tr>\n    <tr>\n      <th>8</th>\n      <td>32929</td>\n      <td>1434340939</td>\n      <td>started_attempt</td>\n      <td>17632</td>\n    </tr>\n    <tr>\n      <th>9</th>\n      <td>32929</td>\n      <td>1434340944</td>\n      <td>passed</td>\n      <td>17632</td>\n    </tr>\n  </tbody>\n</table>\n</div>"
     },
     "execution_count": 258,
     "metadata": {},
     "output_type": "execute_result"
    }
   ],
   "source": [
    "events_data.head(10)"
   ]
  },
  {
   "cell_type": "code",
   "execution_count": 259,
   "id": "c2796080",
   "metadata": {
    "ExecuteTime": {
     "end_time": "2023-07-04T19:39:50.773442Z",
     "start_time": "2023-07-04T19:39:50.192662600Z"
    }
   },
   "outputs": [],
   "source": [
    "events_data['data'] = pd.to_datetime(events_data.timestamp, unit='s')"
   ]
  },
  {
   "cell_type": "code",
   "execution_count": 260,
   "id": "438f181c",
   "metadata": {
    "ExecuteTime": {
     "end_time": "2023-07-04T19:39:50.774438800Z",
     "start_time": "2023-07-04T19:39:50.765764400Z"
    }
   },
   "outputs": [
    {
     "data": {
      "text/plain": "   step_id   timestamp           action  user_id                data\n0    32815  1434340848           viewed    17632 2015-06-15 04:00:48\n1    32815  1434340848           passed    17632 2015-06-15 04:00:48\n2    32815  1434340848       discovered    17632 2015-06-15 04:00:48\n3    32811  1434340895       discovered    17632 2015-06-15 04:01:35\n4    32811  1434340895           viewed    17632 2015-06-15 04:01:35\n5    32811  1434340895           passed    17632 2015-06-15 04:01:35\n6    32929  1434340921       discovered    17632 2015-06-15 04:02:01\n7    32929  1434340921           viewed    17632 2015-06-15 04:02:01\n8    32929  1434340939  started_attempt    17632 2015-06-15 04:02:19\n9    32929  1434340944           passed    17632 2015-06-15 04:02:24",
      "text/html": "<div>\n<style scoped>\n    .dataframe tbody tr th:only-of-type {\n        vertical-align: middle;\n    }\n\n    .dataframe tbody tr th {\n        vertical-align: top;\n    }\n\n    .dataframe thead th {\n        text-align: right;\n    }\n</style>\n<table border=\"1\" class=\"dataframe\">\n  <thead>\n    <tr style=\"text-align: right;\">\n      <th></th>\n      <th>step_id</th>\n      <th>timestamp</th>\n      <th>action</th>\n      <th>user_id</th>\n      <th>data</th>\n    </tr>\n  </thead>\n  <tbody>\n    <tr>\n      <th>0</th>\n      <td>32815</td>\n      <td>1434340848</td>\n      <td>viewed</td>\n      <td>17632</td>\n      <td>2015-06-15 04:00:48</td>\n    </tr>\n    <tr>\n      <th>1</th>\n      <td>32815</td>\n      <td>1434340848</td>\n      <td>passed</td>\n      <td>17632</td>\n      <td>2015-06-15 04:00:48</td>\n    </tr>\n    <tr>\n      <th>2</th>\n      <td>32815</td>\n      <td>1434340848</td>\n      <td>discovered</td>\n      <td>17632</td>\n      <td>2015-06-15 04:00:48</td>\n    </tr>\n    <tr>\n      <th>3</th>\n      <td>32811</td>\n      <td>1434340895</td>\n      <td>discovered</td>\n      <td>17632</td>\n      <td>2015-06-15 04:01:35</td>\n    </tr>\n    <tr>\n      <th>4</th>\n      <td>32811</td>\n      <td>1434340895</td>\n      <td>viewed</td>\n      <td>17632</td>\n      <td>2015-06-15 04:01:35</td>\n    </tr>\n    <tr>\n      <th>5</th>\n      <td>32811</td>\n      <td>1434340895</td>\n      <td>passed</td>\n      <td>17632</td>\n      <td>2015-06-15 04:01:35</td>\n    </tr>\n    <tr>\n      <th>6</th>\n      <td>32929</td>\n      <td>1434340921</td>\n      <td>discovered</td>\n      <td>17632</td>\n      <td>2015-06-15 04:02:01</td>\n    </tr>\n    <tr>\n      <th>7</th>\n      <td>32929</td>\n      <td>1434340921</td>\n      <td>viewed</td>\n      <td>17632</td>\n      <td>2015-06-15 04:02:01</td>\n    </tr>\n    <tr>\n      <th>8</th>\n      <td>32929</td>\n      <td>1434340939</td>\n      <td>started_attempt</td>\n      <td>17632</td>\n      <td>2015-06-15 04:02:19</td>\n    </tr>\n    <tr>\n      <th>9</th>\n      <td>32929</td>\n      <td>1434340944</td>\n      <td>passed</td>\n      <td>17632</td>\n      <td>2015-06-15 04:02:24</td>\n    </tr>\n  </tbody>\n</table>\n</div>"
     },
     "execution_count": 260,
     "metadata": {},
     "output_type": "execute_result"
    }
   ],
   "source": [
    "events_data.head(10)"
   ]
  },
  {
   "cell_type": "code",
   "execution_count": 261,
   "id": "5012c9da",
   "metadata": {
    "ExecuteTime": {
     "end_time": "2023-07-04T19:39:51.257035600Z",
     "start_time": "2023-07-04T19:39:50.772443900Z"
    }
   },
   "outputs": [
    {
     "name": "stderr",
     "output_type": "stream",
     "text": [
      "C:\\Users\\filip\\AppData\\Local\\Temp\\ipykernel_17904\\2602695064.py:1: FutureWarning: Treating datetime data as categorical rather than numeric in `.describe` is deprecated and will be removed in a future version of pandas. Specify `datetime_is_numeric=True` to silence this warning and adopt the future behavior now.\n",
      "  events_data.data.describe()\n"
     ]
    },
    {
     "data": {
      "text/plain": "count                 3480703\nunique                2196932\ntop       2016-10-12 20:25:38\nfreq                       21\nfirst     2015-06-15 04:00:48\nlast      2018-05-19 23:33:31\nName: data, dtype: object"
     },
     "execution_count": 261,
     "metadata": {},
     "output_type": "execute_result"
    }
   ],
   "source": [
    "events_data.data.describe()"
   ]
  },
  {
   "cell_type": "code",
   "execution_count": 262,
   "id": "b2120bf0",
   "metadata": {
    "ExecuteTime": {
     "end_time": "2023-07-04T19:39:52.115379300Z",
     "start_time": "2023-07-04T19:39:51.255041700Z"
    }
   },
   "outputs": [],
   "source": [
    "events_data['day'] = events_data.data.dt.date"
   ]
  },
  {
   "cell_type": "code",
   "execution_count": 263,
   "id": "d029e266",
   "metadata": {
    "ExecuteTime": {
     "end_time": "2023-07-04T19:39:52.126217100Z",
     "start_time": "2023-07-04T19:39:52.116377200Z"
    }
   },
   "outputs": [
    {
     "data": {
      "text/plain": "   step_id   timestamp           action  user_id                data  \\\n0    32815  1434340848           viewed    17632 2015-06-15 04:00:48   \n1    32815  1434340848           passed    17632 2015-06-15 04:00:48   \n2    32815  1434340848       discovered    17632 2015-06-15 04:00:48   \n3    32811  1434340895       discovered    17632 2015-06-15 04:01:35   \n4    32811  1434340895           viewed    17632 2015-06-15 04:01:35   \n5    32811  1434340895           passed    17632 2015-06-15 04:01:35   \n6    32929  1434340921       discovered    17632 2015-06-15 04:02:01   \n7    32929  1434340921           viewed    17632 2015-06-15 04:02:01   \n8    32929  1434340939  started_attempt    17632 2015-06-15 04:02:19   \n9    32929  1434340944           passed    17632 2015-06-15 04:02:24   \n\n          day  \n0  2015-06-15  \n1  2015-06-15  \n2  2015-06-15  \n3  2015-06-15  \n4  2015-06-15  \n5  2015-06-15  \n6  2015-06-15  \n7  2015-06-15  \n8  2015-06-15  \n9  2015-06-15  ",
      "text/html": "<div>\n<style scoped>\n    .dataframe tbody tr th:only-of-type {\n        vertical-align: middle;\n    }\n\n    .dataframe tbody tr th {\n        vertical-align: top;\n    }\n\n    .dataframe thead th {\n        text-align: right;\n    }\n</style>\n<table border=\"1\" class=\"dataframe\">\n  <thead>\n    <tr style=\"text-align: right;\">\n      <th></th>\n      <th>step_id</th>\n      <th>timestamp</th>\n      <th>action</th>\n      <th>user_id</th>\n      <th>data</th>\n      <th>day</th>\n    </tr>\n  </thead>\n  <tbody>\n    <tr>\n      <th>0</th>\n      <td>32815</td>\n      <td>1434340848</td>\n      <td>viewed</td>\n      <td>17632</td>\n      <td>2015-06-15 04:00:48</td>\n      <td>2015-06-15</td>\n    </tr>\n    <tr>\n      <th>1</th>\n      <td>32815</td>\n      <td>1434340848</td>\n      <td>passed</td>\n      <td>17632</td>\n      <td>2015-06-15 04:00:48</td>\n      <td>2015-06-15</td>\n    </tr>\n    <tr>\n      <th>2</th>\n      <td>32815</td>\n      <td>1434340848</td>\n      <td>discovered</td>\n      <td>17632</td>\n      <td>2015-06-15 04:00:48</td>\n      <td>2015-06-15</td>\n    </tr>\n    <tr>\n      <th>3</th>\n      <td>32811</td>\n      <td>1434340895</td>\n      <td>discovered</td>\n      <td>17632</td>\n      <td>2015-06-15 04:01:35</td>\n      <td>2015-06-15</td>\n    </tr>\n    <tr>\n      <th>4</th>\n      <td>32811</td>\n      <td>1434340895</td>\n      <td>viewed</td>\n      <td>17632</td>\n      <td>2015-06-15 04:01:35</td>\n      <td>2015-06-15</td>\n    </tr>\n    <tr>\n      <th>5</th>\n      <td>32811</td>\n      <td>1434340895</td>\n      <td>passed</td>\n      <td>17632</td>\n      <td>2015-06-15 04:01:35</td>\n      <td>2015-06-15</td>\n    </tr>\n    <tr>\n      <th>6</th>\n      <td>32929</td>\n      <td>1434340921</td>\n      <td>discovered</td>\n      <td>17632</td>\n      <td>2015-06-15 04:02:01</td>\n      <td>2015-06-15</td>\n    </tr>\n    <tr>\n      <th>7</th>\n      <td>32929</td>\n      <td>1434340921</td>\n      <td>viewed</td>\n      <td>17632</td>\n      <td>2015-06-15 04:02:01</td>\n      <td>2015-06-15</td>\n    </tr>\n    <tr>\n      <th>8</th>\n      <td>32929</td>\n      <td>1434340939</td>\n      <td>started_attempt</td>\n      <td>17632</td>\n      <td>2015-06-15 04:02:19</td>\n      <td>2015-06-15</td>\n    </tr>\n    <tr>\n      <th>9</th>\n      <td>32929</td>\n      <td>1434340944</td>\n      <td>passed</td>\n      <td>17632</td>\n      <td>2015-06-15 04:02:24</td>\n      <td>2015-06-15</td>\n    </tr>\n  </tbody>\n</table>\n</div>"
     },
     "execution_count": 263,
     "metadata": {},
     "output_type": "execute_result"
    }
   ],
   "source": [
    "events_data.head(10)"
   ]
  },
  {
   "cell_type": "code",
   "execution_count": 264,
   "id": "240119e1",
   "metadata": {
    "ExecuteTime": {
     "end_time": "2023-07-04T19:39:53.024228500Z",
     "start_time": "2023-07-04T19:39:52.128212100Z"
    }
   },
   "outputs": [
    {
     "data": {
      "text/plain": "<AxesSubplot: xlabel='day'>"
     },
     "execution_count": 264,
     "metadata": {},
     "output_type": "execute_result"
    },
    {
     "data": {
      "text/plain": "<Figure size 2000x1000 with 1 Axes>",
      "image/png": "[encoded data removed]"
     },
     "metadata": {},
     "output_type": "display_data"
    }
   ],
   "source": [
    "events_data.groupby('day').user_id.nunique().plot(figsize=(20, 10))"
   ]
  },
  {
   "cell_type": "code",
   "execution_count": 265,
   "id": "3f31e3f7",
   "metadata": {
    "ExecuteTime": {
     "end_time": "2023-07-04T19:39:53.536454400Z",
     "start_time": "2023-07-04T19:39:53.025225900Z"
    }
   },
   "outputs": [
    {
     "data": {
      "text/plain": "<AxesSubplot: >"
     },
     "execution_count": 265,
     "metadata": {},
     "output_type": "execute_result"
    },
    {
     "data": {
      "text/plain": "<Figure size 2000x1000 with 1 Axes>",
      "image/png": "[encoded data removed]"
     },
     "metadata": {},
     "output_type": "display_data"
    }
   ],
   "source": [
    "events_data[events_data.action == 'passed'].groupby('user_id', as_index=False) \\\n",
    "    .agg({\"step_id\": \"count\"}).rename(columns={'step_id': 'passed_step'}).passed_step.hist(figsize=(20, 10))"
   ]
  },
  {
   "cell_type": "code",
   "execution_count": 266,
   "id": "f453f815",
   "metadata": {
    "ExecuteTime": {
     "end_time": "2023-07-04T19:39:53.910419900Z",
     "start_time": "2023-07-04T19:39:53.531467700Z"
    }
   },
   "outputs": [],
   "source": [
    "users_events_data = events_data.pivot_table(index='user_id',\n",
    "                                            columns='action',\n",
    "                                            values='step_id',\n",
    "                                            aggfunc='count', fill_value=0).reset_index()"
   ]
  },
  {
   "cell_type": "code",
   "execution_count": 267,
   "id": "b4b67275",
   "metadata": {
    "ExecuteTime": {
     "end_time": "2023-07-04T19:39:54.057410300Z",
     "start_time": "2023-07-04T19:39:53.899937400Z"
    }
   },
   "outputs": [],
   "source": [
    "submissions_data = pd.read_csv('C:/Users/filip/ML/static/First_contest/submissions_data_train.csv')"
   ]
  },
  {
   "cell_type": "code",
   "execution_count": 268,
   "id": "0db377b9",
   "metadata": {
    "ExecuteTime": {
     "end_time": "2023-07-04T19:39:54.067315200Z",
     "start_time": "2023-07-04T19:39:54.050430Z"
    }
   },
   "outputs": [],
   "source": [
    "submissions_data['data'] = pd.to_datetime(submissions_data.timestamp, unit='s')"
   ]
  },
  {
   "cell_type": "code",
   "execution_count": 269,
   "id": "c9478dff",
   "metadata": {
    "ExecuteTime": {
     "end_time": "2023-07-04T19:39:54.080535300Z",
     "start_time": "2023-07-04T19:39:54.069309400Z"
    }
   },
   "outputs": [
    {
     "data": {
      "text/plain": "   step_id   timestamp submission_status  user_id                data\n0    31971  1434349275           correct    15853 2015-06-15 06:21:15\n1    31972  1434348300           correct    15853 2015-06-15 06:05:00\n2    31972  1478852149             wrong    15853 2016-11-11 08:15:49\n3    31972  1478852164           correct    15853 2016-11-11 08:16:04\n4    31976  1434348123             wrong    15853 2015-06-15 06:02:03",
      "text/html": "<div>\n<style scoped>\n    .dataframe tbody tr th:only-of-type {\n        vertical-align: middle;\n    }\n\n    .dataframe tbody tr th {\n        vertical-align: top;\n    }\n\n    .dataframe thead th {\n        text-align: right;\n    }\n</style>\n<table border=\"1\" class=\"dataframe\">\n  <thead>\n    <tr style=\"text-align: right;\">\n      <th></th>\n      <th>step_id</th>\n      <th>timestamp</th>\n      <th>submission_status</th>\n      <th>user_id</th>\n      <th>data</th>\n    </tr>\n  </thead>\n  <tbody>\n    <tr>\n      <th>0</th>\n      <td>31971</td>\n      <td>1434349275</td>\n      <td>correct</td>\n      <td>15853</td>\n      <td>2015-06-15 06:21:15</td>\n    </tr>\n    <tr>\n      <th>1</th>\n      <td>31972</td>\n      <td>1434348300</td>\n      <td>correct</td>\n      <td>15853</td>\n      <td>2015-06-15 06:05:00</td>\n    </tr>\n    <tr>\n      <th>2</th>\n      <td>31972</td>\n      <td>1478852149</td>\n      <td>wrong</td>\n      <td>15853</td>\n      <td>2016-11-11 08:15:49</td>\n    </tr>\n    <tr>\n      <th>3</th>\n      <td>31972</td>\n      <td>1478852164</td>\n      <td>correct</td>\n      <td>15853</td>\n      <td>2016-11-11 08:16:04</td>\n    </tr>\n    <tr>\n      <th>4</th>\n      <td>31976</td>\n      <td>1434348123</td>\n      <td>wrong</td>\n      <td>15853</td>\n      <td>2015-06-15 06:02:03</td>\n    </tr>\n  </tbody>\n</table>\n</div>"
     },
     "execution_count": 269,
     "metadata": {},
     "output_type": "execute_result"
    }
   ],
   "source": [
    "submissions_data.head()"
   ]
  },
  {
   "cell_type": "code",
   "execution_count": 270,
   "id": "f9a1f820",
   "metadata": {
    "ExecuteTime": {
     "end_time": "2023-07-04T19:39:54.201217200Z",
     "start_time": "2023-07-04T19:39:54.079538100Z"
    }
   },
   "outputs": [],
   "source": [
    "submissions_data['day'] = submissions_data.data.dt.date"
   ]
  },
  {
   "cell_type": "code",
   "execution_count": 271,
   "id": "3119b6cc",
   "metadata": {
    "ExecuteTime": {
     "end_time": "2023-07-04T19:39:54.269061500Z",
     "start_time": "2023-07-04T19:39:54.184239500Z"
    }
   },
   "outputs": [],
   "source": [
    "users_scores = submissions_data.pivot_table(index='user_id',\n",
    "                                            columns='submission_status',\n",
    "                                            values='step_id',\n",
    "                                            aggfunc='count', fill_value=0).reset_index()"
   ]
  },
  {
   "cell_type": "code",
   "execution_count": 272,
   "id": "d8eb76b8",
   "metadata": {
    "ExecuteTime": {
     "end_time": "2023-07-04T19:39:54.351286400Z",
     "start_time": "2023-07-04T19:39:54.295394500Z"
    }
   },
   "outputs": [
    {
     "data": {
      "text/plain": "submission_status  user_id  correct  wrong\n0                        2        2      0\n1                        3       29     23\n2                        5        2      2\n3                        8        9     21\n4                       14        0      1",
      "text/html": "<div>\n<style scoped>\n    .dataframe tbody tr th:only-of-type {\n        vertical-align: middle;\n    }\n\n    .dataframe tbody tr th {\n        vertical-align: top;\n    }\n\n    .dataframe thead th {\n        text-align: right;\n    }\n</style>\n<table border=\"1\" class=\"dataframe\">\n  <thead>\n    <tr style=\"text-align: right;\">\n      <th>submission_status</th>\n      <th>user_id</th>\n      <th>correct</th>\n      <th>wrong</th>\n    </tr>\n  </thead>\n  <tbody>\n    <tr>\n      <th>0</th>\n      <td>2</td>\n      <td>2</td>\n      <td>0</td>\n    </tr>\n    <tr>\n      <th>1</th>\n      <td>3</td>\n      <td>29</td>\n      <td>23</td>\n    </tr>\n    <tr>\n      <th>2</th>\n      <td>5</td>\n      <td>2</td>\n      <td>2</td>\n    </tr>\n    <tr>\n      <th>3</th>\n      <td>8</td>\n      <td>9</td>\n      <td>21</td>\n    </tr>\n    <tr>\n      <th>4</th>\n      <td>14</td>\n      <td>0</td>\n      <td>1</td>\n    </tr>\n  </tbody>\n</table>\n</div>"
     },
     "execution_count": 272,
     "metadata": {},
     "output_type": "execute_result"
    }
   ],
   "source": [
    "users_scores.head()"
   ]
  },
  {
   "cell_type": "code",
   "execution_count": 273,
   "id": "0e4e9ea9",
   "metadata": {
    "ExecuteTime": {
     "end_time": "2023-07-04T19:39:55.306985300Z",
     "start_time": "2023-07-04T19:39:54.641404600Z"
    }
   },
   "outputs": [],
   "source": [
    "gap_data = events_data[['user_id', 'day', 'timestamp']].drop_duplicates(subset=['user_id', 'day']).groupby('user_id')[\n",
    "    'timestamp'].apply(list).apply(np.diff).values"
   ]
  },
  {
   "cell_type": "code",
   "execution_count": 274,
   "id": "e7411017",
   "metadata": {
    "ExecuteTime": {
     "end_time": "2023-07-04T19:39:55.319390100Z",
     "start_time": "2023-07-04T19:39:55.311972600Z"
    }
   },
   "outputs": [],
   "source": [
    "gap_data = pd.Series(np.concatenate(gap_data, axis=0))"
   ]
  },
  {
   "cell_type": "code",
   "execution_count": 275,
   "id": "28171024",
   "metadata": {
    "ExecuteTime": {
     "end_time": "2023-07-04T19:39:55.323382400Z",
     "start_time": "2023-07-04T19:39:55.321383400Z"
    }
   },
   "outputs": [],
   "source": [
    "gap_data = gap_data / (24 * 60 * 60)"
   ]
  },
  {
   "cell_type": "code",
   "execution_count": 276,
   "id": "6f56d71e",
   "metadata": {
    "ExecuteTime": {
     "end_time": "2023-07-04T19:39:55.565801700Z",
     "start_time": "2023-07-04T19:39:55.536797Z"
    }
   },
   "outputs": [
    {
     "data": {
      "text/plain": "2592000"
     },
     "execution_count": 276,
     "metadata": {},
     "output_type": "execute_result"
    }
   ],
   "source": [
    "(24 * 60 * 60 * 30)"
   ]
  },
  {
   "cell_type": "code",
   "execution_count": 277,
   "id": "a6b1f0c6",
   "metadata": {
    "ExecuteTime": {
     "end_time": "2023-07-04T19:39:55.987407300Z",
     "start_time": "2023-07-04T19:39:55.825580600Z"
    }
   },
   "outputs": [
    {
     "data": {
      "text/plain": "<AxesSubplot: >"
     },
     "execution_count": 277,
     "metadata": {},
     "output_type": "execute_result"
    },
    {
     "data": {
      "text/plain": "<Figure size 640x480 with 1 Axes>",
      "image/png": "[encoded data removed]"
     },
     "metadata": {},
     "output_type": "display_data"
    }
   ],
   "source": [
    "gap_data[gap_data < 200].hist()"
   ]
  },
  {
   "cell_type": "code",
   "execution_count": 278,
   "id": "e54f1b5a",
   "metadata": {
    "ExecuteTime": {
     "end_time": "2023-07-04T19:39:56.774548800Z",
     "start_time": "2023-07-04T19:39:56.748555Z"
    }
   },
   "outputs": [
    {
     "data": {
      "text/plain": "18.325995370370403"
     },
     "execution_count": 278,
     "metadata": {},
     "output_type": "execute_result"
    }
   ],
   "source": [
    "gap_data.quantile(0.90)"
   ]
  },
  {
   "cell_type": "code",
   "execution_count": 279,
   "id": "301dc14a",
   "metadata": {
    "ExecuteTime": {
     "end_time": "2023-07-04T19:39:59.208892700Z",
     "start_time": "2023-07-04T19:39:58.857249700Z"
    }
   },
   "outputs": [
    {
     "data": {
      "text/plain": "action  user_id  discovered  passed  started_attempt  viewed\n0             1           1       0                0       1\n10166     14118           5       5                0       5\n10168     14121           1       0                0       1\n10170     14123           1       1                0       6\n10171     14125           1       1                0       1\n...         ...         ...     ...              ...     ...\n1204       1649         194     194              281     807\n4825       6662         198     197              285    1054\n6062       8394         131      94              337    1070\n2611       3572         194     193              550    6968\n781        1046         128     124              721    8122\n\n[19234 rows x 5 columns]",
      "text/html": "<div>\n<style scoped>\n    .dataframe tbody tr th:only-of-type {\n        vertical-align: middle;\n    }\n\n    .dataframe tbody tr th {\n        vertical-align: top;\n    }\n\n    .dataframe thead th {\n        text-align: right;\n    }\n</style>\n<table border=\"1\" class=\"dataframe\">\n  <thead>\n    <tr style=\"text-align: right;\">\n      <th>action</th>\n      <th>user_id</th>\n      <th>discovered</th>\n      <th>passed</th>\n      <th>started_attempt</th>\n      <th>viewed</th>\n    </tr>\n  </thead>\n  <tbody>\n    <tr>\n      <th>0</th>\n      <td>1</td>\n      <td>1</td>\n      <td>0</td>\n      <td>0</td>\n      <td>1</td>\n    </tr>\n    <tr>\n      <th>10166</th>\n      <td>14118</td>\n      <td>5</td>\n      <td>5</td>\n      <td>0</td>\n      <td>5</td>\n    </tr>\n    <tr>\n      <th>10168</th>\n      <td>14121</td>\n      <td>1</td>\n      <td>0</td>\n      <td>0</td>\n      <td>1</td>\n    </tr>\n    <tr>\n      <th>10170</th>\n      <td>14123</td>\n      <td>1</td>\n      <td>1</td>\n      <td>0</td>\n      <td>6</td>\n    </tr>\n    <tr>\n      <th>10171</th>\n      <td>14125</td>\n      <td>1</td>\n      <td>1</td>\n      <td>0</td>\n      <td>1</td>\n    </tr>\n    <tr>\n      <th>...</th>\n      <td>...</td>\n      <td>...</td>\n      <td>...</td>\n      <td>...</td>\n      <td>...</td>\n    </tr>\n    <tr>\n      <th>1204</th>\n      <td>1649</td>\n      <td>194</td>\n      <td>194</td>\n      <td>281</td>\n      <td>807</td>\n    </tr>\n    <tr>\n      <th>4825</th>\n      <td>6662</td>\n      <td>198</td>\n      <td>197</td>\n      <td>285</td>\n      <td>1054</td>\n    </tr>\n    <tr>\n      <th>6062</th>\n      <td>8394</td>\n      <td>131</td>\n      <td>94</td>\n      <td>337</td>\n      <td>1070</td>\n    </tr>\n    <tr>\n      <th>2611</th>\n      <td>3572</td>\n      <td>194</td>\n      <td>193</td>\n      <td>550</td>\n      <td>6968</td>\n    </tr>\n    <tr>\n      <th>781</th>\n      <td>1046</td>\n      <td>128</td>\n      <td>124</td>\n      <td>721</td>\n      <td>8122</td>\n    </tr>\n  </tbody>\n</table>\n<p>19234 rows × 5 columns</p>\n</div>"
     },
     "execution_count": 279,
     "metadata": {},
     "output_type": "execute_result"
    }
   ],
   "source": [
    "events_data.pivot_table(index='user_id', columns='action', values='step_id',\n",
    "                        aggfunc='count', fill_value=0).reset_index().sort_values('started_attempt')"
   ]
  },
  {
   "cell_type": "code",
   "execution_count": 280,
   "id": "32775d08",
   "metadata": {
    "ExecuteTime": {
     "end_time": "2023-07-04T19:39:59.254165600Z",
     "start_time": "2023-07-04T19:39:59.208892700Z"
    }
   },
   "outputs": [
    {
     "data": {
      "text/plain": "         step_id   timestamp      action  user_id                data  \\\n3480698    33375  1526772685      viewed    11677 2018-05-19 23:31:25   \n3480699    32815  1526772750      viewed     5198 2018-05-19 23:32:30   \n3480700    32815  1526772750  discovered     5198 2018-05-19 23:32:30   \n3480701    32815  1526772750      passed     5198 2018-05-19 23:32:30   \n3480702    33892  1526772811      viewed    18526 2018-05-19 23:33:31   \n\n                day  \n3480698  2018-05-19  \n3480699  2018-05-19  \n3480700  2018-05-19  \n3480701  2018-05-19  \n3480702  2018-05-19  ",
      "text/html": "<div>\n<style scoped>\n    .dataframe tbody tr th:only-of-type {\n        vertical-align: middle;\n    }\n\n    .dataframe tbody tr th {\n        vertical-align: top;\n    }\n\n    .dataframe thead th {\n        text-align: right;\n    }\n</style>\n<table border=\"1\" class=\"dataframe\">\n  <thead>\n    <tr style=\"text-align: right;\">\n      <th></th>\n      <th>step_id</th>\n      <th>timestamp</th>\n      <th>action</th>\n      <th>user_id</th>\n      <th>data</th>\n      <th>day</th>\n    </tr>\n  </thead>\n  <tbody>\n    <tr>\n      <th>3480698</th>\n      <td>33375</td>\n      <td>1526772685</td>\n      <td>viewed</td>\n      <td>11677</td>\n      <td>2018-05-19 23:31:25</td>\n      <td>2018-05-19</td>\n    </tr>\n    <tr>\n      <th>3480699</th>\n      <td>32815</td>\n      <td>1526772750</td>\n      <td>viewed</td>\n      <td>5198</td>\n      <td>2018-05-19 23:32:30</td>\n      <td>2018-05-19</td>\n    </tr>\n    <tr>\n      <th>3480700</th>\n      <td>32815</td>\n      <td>1526772750</td>\n      <td>discovered</td>\n      <td>5198</td>\n      <td>2018-05-19 23:32:30</td>\n      <td>2018-05-19</td>\n    </tr>\n    <tr>\n      <th>3480701</th>\n      <td>32815</td>\n      <td>1526772750</td>\n      <td>passed</td>\n      <td>5198</td>\n      <td>2018-05-19 23:32:30</td>\n      <td>2018-05-19</td>\n    </tr>\n    <tr>\n      <th>3480702</th>\n      <td>33892</td>\n      <td>1526772811</td>\n      <td>viewed</td>\n      <td>18526</td>\n      <td>2018-05-19 23:33:31</td>\n      <td>2018-05-19</td>\n    </tr>\n  </tbody>\n</table>\n</div>"
     },
     "execution_count": 280,
     "metadata": {},
     "output_type": "execute_result"
    }
   ],
   "source": [
    "events_data.tail()"
   ]
  },
  {
   "cell_type": "code",
   "execution_count": 281,
   "id": "9ba07ed6",
   "metadata": {
    "ExecuteTime": {
     "end_time": "2023-07-04T19:39:59.384801100Z",
     "start_time": "2023-07-04T19:39:59.247184500Z"
    }
   },
   "outputs": [],
   "source": [
    "users_data = events_data.groupby('user_id', as_index=False) \\\n",
    "    .agg({'timestamp': 'max'}).rename(columns={'timestamp': 'last_timestamp'})"
   ]
  },
  {
   "cell_type": "code",
   "execution_count": 282,
   "id": "1c3a24b7",
   "metadata": {
    "ExecuteTime": {
     "end_time": "2023-07-04T19:39:59.567860Z",
     "start_time": "2023-07-04T19:39:59.481975Z"
    }
   },
   "outputs": [],
   "source": [
    "now = 1526772811"
   ]
  },
  {
   "cell_type": "code",
   "execution_count": 283,
   "id": "1c6854ce",
   "metadata": {
    "ExecuteTime": {
     "end_time": "2023-07-04T19:39:59.856926400Z",
     "start_time": "2023-07-04T19:39:59.825902800Z"
    }
   },
   "outputs": [],
   "source": [
    "drop_out_threshold = 2592000"
   ]
  },
  {
   "cell_type": "code",
   "execution_count": 284,
   "outputs": [],
   "source": [
    "users_data['is_gone_user'] = (now - users_data.last_timestamp) > drop_out_threshold"
   ],
   "metadata": {
    "collapsed": false,
    "ExecuteTime": {
     "end_time": "2023-07-04T19:40:00.129114600Z",
     "start_time": "2023-07-04T19:40:00.088524900Z"
    }
   }
  },
  {
   "cell_type": "code",
   "execution_count": 285,
   "id": "889ea2a1",
   "metadata": {
    "ExecuteTime": {
     "end_time": "2023-07-04T19:40:00.395499200Z",
     "start_time": "2023-07-04T19:40:00.359035300Z"
    }
   },
   "outputs": [
    {
     "data": {
      "text/plain": "   user_id  last_timestamp  is_gone_user\n0        1      1472827464          True\n1        2      1519226966          True\n2        3      1444581588          True\n3        5      1499859939          True\n4        7      1521634660          True",
      "text/html": "<div>\n<style scoped>\n    .dataframe tbody tr th:only-of-type {\n        vertical-align: middle;\n    }\n\n    .dataframe tbody tr th {\n        vertical-align: top;\n    }\n\n    .dataframe thead th {\n        text-align: right;\n    }\n</style>\n<table border=\"1\" class=\"dataframe\">\n  <thead>\n    <tr style=\"text-align: right;\">\n      <th></th>\n      <th>user_id</th>\n      <th>last_timestamp</th>\n      <th>is_gone_user</th>\n    </tr>\n  </thead>\n  <tbody>\n    <tr>\n      <th>0</th>\n      <td>1</td>\n      <td>1472827464</td>\n      <td>True</td>\n    </tr>\n    <tr>\n      <th>1</th>\n      <td>2</td>\n      <td>1519226966</td>\n      <td>True</td>\n    </tr>\n    <tr>\n      <th>2</th>\n      <td>3</td>\n      <td>1444581588</td>\n      <td>True</td>\n    </tr>\n    <tr>\n      <th>3</th>\n      <td>5</td>\n      <td>1499859939</td>\n      <td>True</td>\n    </tr>\n    <tr>\n      <th>4</th>\n      <td>7</td>\n      <td>1521634660</td>\n      <td>True</td>\n    </tr>\n  </tbody>\n</table>\n</div>"
     },
     "execution_count": 285,
     "metadata": {},
     "output_type": "execute_result"
    }
   ],
   "source": [
    "users_data.head()"
   ]
  },
  {
   "cell_type": "code",
   "execution_count": 286,
   "id": "c171f6e9",
   "metadata": {
    "ExecuteTime": {
     "end_time": "2023-07-04T19:40:01.877290500Z",
     "start_time": "2023-07-04T19:40:01.864369900Z"
    }
   },
   "outputs": [],
   "source": [
    "users_data = users_data.merge(users_scores, how='outer')"
   ]
  },
  {
   "cell_type": "code",
   "execution_count": 287,
   "id": "040ac88f",
   "metadata": {
    "ExecuteTime": {
     "end_time": "2023-07-04T19:40:02.379219Z",
     "start_time": "2023-07-04T19:40:02.354596Z"
    }
   },
   "outputs": [],
   "source": [
    "users_data = users_data.fillna(0)"
   ]
  },
  {
   "cell_type": "code",
   "execution_count": 288,
   "id": "1ed7f4fe",
   "metadata": {
    "ExecuteTime": {
     "end_time": "2023-07-04T19:40:06.261194100Z",
     "start_time": "2023-07-04T19:40:06.220066900Z"
    }
   },
   "outputs": [
    {
     "data": {
      "text/plain": "    user_id  last_timestamp  is_gone_user  correct  wrong\n0         1      1472827464          True      0.0    0.0\n1         2      1519226966          True      2.0    0.0\n2         3      1444581588          True     29.0   23.0\n3         5      1499859939          True      2.0    2.0\n4         7      1521634660          True      0.0    0.0\n5         8      1481466913          True      9.0   21.0\n6         9      1484999497          True      0.0    0.0\n7        11      1526140625         False      0.0    0.0\n8        14      1436368676          True      0.0    1.0\n9        16      1513162585          True     77.0  106.0\n10       17      1465765342          True      0.0    2.0\n11       18      1438541223          True      0.0    0.0\n12       20      1443033703          True      0.0    0.0\n13       22      1507142631          True     76.0   47.0\n14       24      1524764853         False      0.0    0.0\n15       25      1524816605         False      1.0    4.0\n16       26      1476957222          True      7.0   16.0\n17       28      1442305755          True      0.0    0.0\n18       30      1510574287          True    119.0   79.0\n19       31      1485686263          True      4.0    5.0",
      "text/html": "<div>\n<style scoped>\n    .dataframe tbody tr th:only-of-type {\n        vertical-align: middle;\n    }\n\n    .dataframe tbody tr th {\n        vertical-align: top;\n    }\n\n    .dataframe thead th {\n        text-align: right;\n    }\n</style>\n<table border=\"1\" class=\"dataframe\">\n  <thead>\n    <tr style=\"text-align: right;\">\n      <th></th>\n      <th>user_id</th>\n      <th>last_timestamp</th>\n      <th>is_gone_user</th>\n      <th>correct</th>\n      <th>wrong</th>\n    </tr>\n  </thead>\n  <tbody>\n    <tr>\n      <th>0</th>\n      <td>1</td>\n      <td>1472827464</td>\n      <td>True</td>\n      <td>0.0</td>\n      <td>0.0</td>\n    </tr>\n    <tr>\n      <th>1</th>\n      <td>2</td>\n      <td>1519226966</td>\n      <td>True</td>\n      <td>2.0</td>\n      <td>0.0</td>\n    </tr>\n    <tr>\n      <th>2</th>\n      <td>3</td>\n      <td>1444581588</td>\n      <td>True</td>\n      <td>29.0</td>\n      <td>23.0</td>\n    </tr>\n    <tr>\n      <th>3</th>\n      <td>5</td>\n      <td>1499859939</td>\n      <td>True</td>\n      <td>2.0</td>\n      <td>2.0</td>\n    </tr>\n    <tr>\n      <th>4</th>\n      <td>7</td>\n      <td>1521634660</td>\n      <td>True</td>\n      <td>0.0</td>\n      <td>0.0</td>\n    </tr>\n    <tr>\n      <th>5</th>\n      <td>8</td>\n      <td>1481466913</td>\n      <td>True</td>\n      <td>9.0</td>\n      <td>21.0</td>\n    </tr>\n    <tr>\n      <th>6</th>\n      <td>9</td>\n      <td>1484999497</td>\n      <td>True</td>\n      <td>0.0</td>\n      <td>0.0</td>\n    </tr>\n    <tr>\n      <th>7</th>\n      <td>11</td>\n      <td>1526140625</td>\n      <td>False</td>\n      <td>0.0</td>\n      <td>0.0</td>\n    </tr>\n    <tr>\n      <th>8</th>\n      <td>14</td>\n      <td>1436368676</td>\n      <td>True</td>\n      <td>0.0</td>\n      <td>1.0</td>\n    </tr>\n    <tr>\n      <th>9</th>\n      <td>16</td>\n      <td>1513162585</td>\n      <td>True</td>\n      <td>77.0</td>\n      <td>106.0</td>\n    </tr>\n    <tr>\n      <th>10</th>\n      <td>17</td>\n      <td>1465765342</td>\n      <td>True</td>\n      <td>0.0</td>\n      <td>2.0</td>\n    </tr>\n    <tr>\n      <th>11</th>\n      <td>18</td>\n      <td>1438541223</td>\n      <td>True</td>\n      <td>0.0</td>\n      <td>0.0</td>\n    </tr>\n    <tr>\n      <th>12</th>\n      <td>20</td>\n      <td>1443033703</td>\n      <td>True</td>\n      <td>0.0</td>\n      <td>0.0</td>\n    </tr>\n    <tr>\n      <th>13</th>\n      <td>22</td>\n      <td>1507142631</td>\n      <td>True</td>\n      <td>76.0</td>\n      <td>47.0</td>\n    </tr>\n    <tr>\n      <th>14</th>\n      <td>24</td>\n      <td>1524764853</td>\n      <td>False</td>\n      <td>0.0</td>\n      <td>0.0</td>\n    </tr>\n    <tr>\n      <th>15</th>\n      <td>25</td>\n      <td>1524816605</td>\n      <td>False</td>\n      <td>1.0</td>\n      <td>4.0</td>\n    </tr>\n    <tr>\n      <th>16</th>\n      <td>26</td>\n      <td>1476957222</td>\n      <td>True</td>\n      <td>7.0</td>\n      <td>16.0</td>\n    </tr>\n    <tr>\n      <th>17</th>\n      <td>28</td>\n      <td>1442305755</td>\n      <td>True</td>\n      <td>0.0</td>\n      <td>0.0</td>\n    </tr>\n    <tr>\n      <th>18</th>\n      <td>30</td>\n      <td>1510574287</td>\n      <td>True</td>\n      <td>119.0</td>\n      <td>79.0</td>\n    </tr>\n    <tr>\n      <th>19</th>\n      <td>31</td>\n      <td>1485686263</td>\n      <td>True</td>\n      <td>4.0</td>\n      <td>5.0</td>\n    </tr>\n  </tbody>\n</table>\n</div>"
     },
     "execution_count": 288,
     "metadata": {},
     "output_type": "execute_result"
    }
   ],
   "source": [
    "users_data.head(20)"
   ]
  },
  {
   "cell_type": "code",
   "execution_count": 87,
   "id": "0a98c5c7",
   "metadata": {
    "ExecuteTime": {
     "end_time": "2023-07-04T17:00:00.485831Z",
     "start_time": "2023-07-04T17:00:00.466766500Z"
    }
   },
   "outputs": [
    {
     "ename": "NameError",
     "evalue": "name 'users_eve' is not defined",
     "output_type": "error",
     "traceback": [
      "\u001B[1;31m---------------------------------------------------------------------------\u001B[0m",
      "\u001B[1;31mNameError\u001B[0m                                 Traceback (most recent call last)",
      "Cell \u001B[1;32mIn[87], line 1\u001B[0m\n\u001B[1;32m----> 1\u001B[0m users_data \u001B[38;5;241m=\u001B[39m users_data\u001B[38;5;241m.\u001B[39mmerge(\u001B[43musers_eve\u001B[49m)\n",
      "\u001B[1;31mNameError\u001B[0m: name 'users_eve' is not defined"
     ]
    }
   ],
   "source": [
    "# users_data = users_data.merge(users_eve)"
   ]
  },
  {
   "cell_type": "code",
   "execution_count": 289,
   "id": "0b31bbe4",
   "metadata": {
    "ExecuteTime": {
     "end_time": "2023-07-04T19:40:39.200902200Z",
     "start_time": "2023-07-04T19:40:39.159126400Z"
    }
   },
   "outputs": [],
   "source": [
    "users_days = users_data.merge(users_events_data, how='outer')"
   ]
  },
  {
   "cell_type": "code",
   "execution_count": 290,
   "id": "aa2f79ac",
   "metadata": {
    "ExecuteTime": {
     "end_time": "2023-07-04T19:40:39.528561400Z",
     "start_time": "2023-07-04T19:40:39.498206500Z"
    }
   },
   "outputs": [
    {
     "data": {
      "text/plain": "   user_id  last_timestamp  is_gone_user  correct  wrong  discovered  passed  \\\n0        1      1472827464          True      0.0    0.0           1       0   \n1        2      1519226966          True      2.0    0.0           9       9   \n2        3      1444581588          True     29.0   23.0          91      87   \n3        5      1499859939          True      2.0    2.0          11      11   \n4        7      1521634660          True      0.0    0.0           1       1   \n\n   started_attempt  viewed  \n0                0       1  \n1                2      10  \n2               30     192  \n3                4      12  \n4                0       1  ",
      "text/html": "<div>\n<style scoped>\n    .dataframe tbody tr th:only-of-type {\n        vertical-align: middle;\n    }\n\n    .dataframe tbody tr th {\n        vertical-align: top;\n    }\n\n    .dataframe thead th {\n        text-align: right;\n    }\n</style>\n<table border=\"1\" class=\"dataframe\">\n  <thead>\n    <tr style=\"text-align: right;\">\n      <th></th>\n      <th>user_id</th>\n      <th>last_timestamp</th>\n      <th>is_gone_user</th>\n      <th>correct</th>\n      <th>wrong</th>\n      <th>discovered</th>\n      <th>passed</th>\n      <th>started_attempt</th>\n      <th>viewed</th>\n    </tr>\n  </thead>\n  <tbody>\n    <tr>\n      <th>0</th>\n      <td>1</td>\n      <td>1472827464</td>\n      <td>True</td>\n      <td>0.0</td>\n      <td>0.0</td>\n      <td>1</td>\n      <td>0</td>\n      <td>0</td>\n      <td>1</td>\n    </tr>\n    <tr>\n      <th>1</th>\n      <td>2</td>\n      <td>1519226966</td>\n      <td>True</td>\n      <td>2.0</td>\n      <td>0.0</td>\n      <td>9</td>\n      <td>9</td>\n      <td>2</td>\n      <td>10</td>\n    </tr>\n    <tr>\n      <th>2</th>\n      <td>3</td>\n      <td>1444581588</td>\n      <td>True</td>\n      <td>29.0</td>\n      <td>23.0</td>\n      <td>91</td>\n      <td>87</td>\n      <td>30</td>\n      <td>192</td>\n    </tr>\n    <tr>\n      <th>3</th>\n      <td>5</td>\n      <td>1499859939</td>\n      <td>True</td>\n      <td>2.0</td>\n      <td>2.0</td>\n      <td>11</td>\n      <td>11</td>\n      <td>4</td>\n      <td>12</td>\n    </tr>\n    <tr>\n      <th>4</th>\n      <td>7</td>\n      <td>1521634660</td>\n      <td>True</td>\n      <td>0.0</td>\n      <td>0.0</td>\n      <td>1</td>\n      <td>1</td>\n      <td>0</td>\n      <td>1</td>\n    </tr>\n  </tbody>\n</table>\n</div>"
     },
     "execution_count": 290,
     "metadata": {},
     "output_type": "execute_result"
    }
   ],
   "source": [
    "users_days.head()"
   ]
  },
  {
   "cell_type": "code",
   "execution_count": 291,
   "id": "19071df1",
   "metadata": {
    "ExecuteTime": {
     "end_time": "2023-07-04T19:40:40.611626500Z",
     "start_time": "2023-07-04T19:40:40.175223300Z"
    }
   },
   "outputs": [],
   "source": [
    "users_days = events_data.groupby('user_id').day.nunique().to_frame().reset_index()"
   ]
  },
  {
   "cell_type": "code",
   "execution_count": 292,
   "id": "1d870fe5",
   "metadata": {
    "ExecuteTime": {
     "end_time": "2023-07-04T19:40:40.639550300Z",
     "start_time": "2023-07-04T19:40:40.604741100Z"
    }
   },
   "outputs": [
    {
     "data": {
      "text/plain": "       user_id  day\n0            1    1\n1            2    2\n2            3    7\n3            5    2\n4            7    1\n...        ...  ...\n19229    26790    4\n19230    26793    1\n19231    26794    9\n19232    26797    2\n19233    26798    1\n\n[19234 rows x 2 columns]",
      "text/html": "<div>\n<style scoped>\n    .dataframe tbody tr th:only-of-type {\n        vertical-align: middle;\n    }\n\n    .dataframe tbody tr th {\n        vertical-align: top;\n    }\n\n    .dataframe thead th {\n        text-align: right;\n    }\n</style>\n<table border=\"1\" class=\"dataframe\">\n  <thead>\n    <tr style=\"text-align: right;\">\n      <th></th>\n      <th>user_id</th>\n      <th>day</th>\n    </tr>\n  </thead>\n  <tbody>\n    <tr>\n      <th>0</th>\n      <td>1</td>\n      <td>1</td>\n    </tr>\n    <tr>\n      <th>1</th>\n      <td>2</td>\n      <td>2</td>\n    </tr>\n    <tr>\n      <th>2</th>\n      <td>3</td>\n      <td>7</td>\n    </tr>\n    <tr>\n      <th>3</th>\n      <td>5</td>\n      <td>2</td>\n    </tr>\n    <tr>\n      <th>4</th>\n      <td>7</td>\n      <td>1</td>\n    </tr>\n    <tr>\n      <th>...</th>\n      <td>...</td>\n      <td>...</td>\n    </tr>\n    <tr>\n      <th>19229</th>\n      <td>26790</td>\n      <td>4</td>\n    </tr>\n    <tr>\n      <th>19230</th>\n      <td>26793</td>\n      <td>1</td>\n    </tr>\n    <tr>\n      <th>19231</th>\n      <td>26794</td>\n      <td>9</td>\n    </tr>\n    <tr>\n      <th>19232</th>\n      <td>26797</td>\n      <td>2</td>\n    </tr>\n    <tr>\n      <th>19233</th>\n      <td>26798</td>\n      <td>1</td>\n    </tr>\n  </tbody>\n</table>\n<p>19234 rows × 2 columns</p>\n</div>"
     },
     "execution_count": 292,
     "metadata": {},
     "output_type": "execute_result"
    }
   ],
   "source": [
    "users_days"
   ]
  },
  {
   "cell_type": "code",
   "execution_count": 293,
   "id": "a4e45a58",
   "metadata": {
    "ExecuteTime": {
     "end_time": "2023-07-04T19:40:40.894217700Z",
     "start_time": "2023-07-04T19:40:40.867666400Z"
    }
   },
   "outputs": [],
   "source": [
    "users_data = users_data.merge(users_days, how='outer')"
   ]
  },
  {
   "cell_type": "code",
   "execution_count": 294,
   "id": "9708529b",
   "metadata": {
    "ExecuteTime": {
     "end_time": "2023-07-04T19:40:41.161695400Z",
     "start_time": "2023-07-04T19:40:41.133942800Z"
    }
   },
   "outputs": [],
   "source": [
    "users_data = users_data.merge(users_events_data, how='outer')"
   ]
  },
  {
   "cell_type": "code",
   "execution_count": 295,
   "id": "6fe1a9a2",
   "metadata": {
    "ExecuteTime": {
     "end_time": "2023-07-04T19:40:41.388204500Z",
     "start_time": "2023-07-04T19:40:41.356754800Z"
    }
   },
   "outputs": [
    {
     "data": {
      "text/plain": "       user_id  last_timestamp  is_gone_user  correct  wrong  day  discovered  \\\n0            1      1472827464          True      0.0    0.0    1           1   \n1            2      1519226966          True      2.0    0.0    2           9   \n2            3      1444581588          True     29.0   23.0    7          91   \n3            5      1499859939          True      2.0    2.0    2          11   \n4            7      1521634660          True      0.0    0.0    1           1   \n...        ...             ...           ...      ...    ...  ...         ...   \n19229    26790      1517495987          True      1.0    0.0    4           8   \n19230    26793      1510225034          True      0.0    0.0    1           1   \n19231    26794      1512035039          True     33.0    9.0    9          69   \n19232    26797      1509995096          True      2.0    0.0    2          10   \n19233    26798      1520978742          True      2.0    1.0    1          12   \n\n       passed  started_attempt  viewed  \n0           0                0       1  \n1           9                2      10  \n2          87               30     192  \n3          11                4      12  \n4           1                0       1  \n...       ...              ...     ...  \n19229       8                1       9  \n19230       0                1       1  \n19231      69               34     180  \n19232      10                2      13  \n19233      12                3      12  \n\n[19234 rows x 10 columns]",
      "text/html": "<div>\n<style scoped>\n    .dataframe tbody tr th:only-of-type {\n        vertical-align: middle;\n    }\n\n    .dataframe tbody tr th {\n        vertical-align: top;\n    }\n\n    .dataframe thead th {\n        text-align: right;\n    }\n</style>\n<table border=\"1\" class=\"dataframe\">\n  <thead>\n    <tr style=\"text-align: right;\">\n      <th></th>\n      <th>user_id</th>\n      <th>last_timestamp</th>\n      <th>is_gone_user</th>\n      <th>correct</th>\n      <th>wrong</th>\n      <th>day</th>\n      <th>discovered</th>\n      <th>passed</th>\n      <th>started_attempt</th>\n      <th>viewed</th>\n    </tr>\n  </thead>\n  <tbody>\n    <tr>\n      <th>0</th>\n      <td>1</td>\n      <td>1472827464</td>\n      <td>True</td>\n      <td>0.0</td>\n      <td>0.0</td>\n      <td>1</td>\n      <td>1</td>\n      <td>0</td>\n      <td>0</td>\n      <td>1</td>\n    </tr>\n    <tr>\n      <th>1</th>\n      <td>2</td>\n      <td>1519226966</td>\n      <td>True</td>\n      <td>2.0</td>\n      <td>0.0</td>\n      <td>2</td>\n      <td>9</td>\n      <td>9</td>\n      <td>2</td>\n      <td>10</td>\n    </tr>\n    <tr>\n      <th>2</th>\n      <td>3</td>\n      <td>1444581588</td>\n      <td>True</td>\n      <td>29.0</td>\n      <td>23.0</td>\n      <td>7</td>\n      <td>91</td>\n      <td>87</td>\n      <td>30</td>\n      <td>192</td>\n    </tr>\n    <tr>\n      <th>3</th>\n      <td>5</td>\n      <td>1499859939</td>\n      <td>True</td>\n      <td>2.0</td>\n      <td>2.0</td>\n      <td>2</td>\n      <td>11</td>\n      <td>11</td>\n      <td>4</td>\n      <td>12</td>\n    </tr>\n    <tr>\n      <th>4</th>\n      <td>7</td>\n      <td>1521634660</td>\n      <td>True</td>\n      <td>0.0</td>\n      <td>0.0</td>\n      <td>1</td>\n      <td>1</td>\n      <td>1</td>\n      <td>0</td>\n      <td>1</td>\n    </tr>\n    <tr>\n      <th>...</th>\n      <td>...</td>\n      <td>...</td>\n      <td>...</td>\n      <td>...</td>\n      <td>...</td>\n      <td>...</td>\n      <td>...</td>\n      <td>...</td>\n      <td>...</td>\n      <td>...</td>\n    </tr>\n    <tr>\n      <th>19229</th>\n      <td>26790</td>\n      <td>1517495987</td>\n      <td>True</td>\n      <td>1.0</td>\n      <td>0.0</td>\n      <td>4</td>\n      <td>8</td>\n      <td>8</td>\n      <td>1</td>\n      <td>9</td>\n    </tr>\n    <tr>\n      <th>19230</th>\n      <td>26793</td>\n      <td>1510225034</td>\n      <td>True</td>\n      <td>0.0</td>\n      <td>0.0</td>\n      <td>1</td>\n      <td>1</td>\n      <td>0</td>\n      <td>1</td>\n      <td>1</td>\n    </tr>\n    <tr>\n      <th>19231</th>\n      <td>26794</td>\n      <td>1512035039</td>\n      <td>True</td>\n      <td>33.0</td>\n      <td>9.0</td>\n      <td>9</td>\n      <td>69</td>\n      <td>69</td>\n      <td>34</td>\n      <td>180</td>\n    </tr>\n    <tr>\n      <th>19232</th>\n      <td>26797</td>\n      <td>1509995096</td>\n      <td>True</td>\n      <td>2.0</td>\n      <td>0.0</td>\n      <td>2</td>\n      <td>10</td>\n      <td>10</td>\n      <td>2</td>\n      <td>13</td>\n    </tr>\n    <tr>\n      <th>19233</th>\n      <td>26798</td>\n      <td>1520978742</td>\n      <td>True</td>\n      <td>2.0</td>\n      <td>1.0</td>\n      <td>1</td>\n      <td>12</td>\n      <td>12</td>\n      <td>3</td>\n      <td>12</td>\n    </tr>\n  </tbody>\n</table>\n<p>19234 rows × 10 columns</p>\n</div>"
     },
     "execution_count": 295,
     "metadata": {},
     "output_type": "execute_result"
    }
   ],
   "source": [
    "users_data"
   ]
  },
  {
   "cell_type": "code",
   "execution_count": 296,
   "id": "45d935fb",
   "metadata": {
    "ExecuteTime": {
     "end_time": "2023-07-04T19:40:41.665979300Z",
     "start_time": "2023-07-04T19:40:41.603022900Z"
    }
   },
   "outputs": [],
   "source": [
    "users_data['passed_course'] = users_data.passed > 170"
   ]
  },
  {
   "cell_type": "code",
   "execution_count": 297,
   "id": "dcf51f3b",
   "metadata": {
    "ExecuteTime": {
     "end_time": "2023-07-04T19:40:42.003851900Z",
     "start_time": "2023-07-04T19:40:41.958123900Z"
    }
   },
   "outputs": [
    {
     "data": {
      "text/plain": "               user_id  last_timestamp  is_gone_user  correct  wrong    day  \\\npassed_course                                                                 \nFalse            17809           17809         17809    17809  17809  17809   \nTrue              1425            1425          1425     1425   1425   1425   \n\n               discovered  passed  started_attempt  viewed  \npassed_course                                               \nFalse               17809   17809            17809   17809  \nTrue                 1425    1425             1425    1425  ",
      "text/html": "<div>\n<style scoped>\n    .dataframe tbody tr th:only-of-type {\n        vertical-align: middle;\n    }\n\n    .dataframe tbody tr th {\n        vertical-align: top;\n    }\n\n    .dataframe thead th {\n        text-align: right;\n    }\n</style>\n<table border=\"1\" class=\"dataframe\">\n  <thead>\n    <tr style=\"text-align: right;\">\n      <th></th>\n      <th>user_id</th>\n      <th>last_timestamp</th>\n      <th>is_gone_user</th>\n      <th>correct</th>\n      <th>wrong</th>\n      <th>day</th>\n      <th>discovered</th>\n      <th>passed</th>\n      <th>started_attempt</th>\n      <th>viewed</th>\n    </tr>\n    <tr>\n      <th>passed_course</th>\n      <th></th>\n      <th></th>\n      <th></th>\n      <th></th>\n      <th></th>\n      <th></th>\n      <th></th>\n      <th></th>\n      <th></th>\n      <th></th>\n    </tr>\n  </thead>\n  <tbody>\n    <tr>\n      <th>False</th>\n      <td>17809</td>\n      <td>17809</td>\n      <td>17809</td>\n      <td>17809</td>\n      <td>17809</td>\n      <td>17809</td>\n      <td>17809</td>\n      <td>17809</td>\n      <td>17809</td>\n      <td>17809</td>\n    </tr>\n    <tr>\n      <th>True</th>\n      <td>1425</td>\n      <td>1425</td>\n      <td>1425</td>\n      <td>1425</td>\n      <td>1425</td>\n      <td>1425</td>\n      <td>1425</td>\n      <td>1425</td>\n      <td>1425</td>\n      <td>1425</td>\n    </tr>\n  </tbody>\n</table>\n</div>"
     },
     "execution_count": 297,
     "metadata": {},
     "output_type": "execute_result"
    }
   ],
   "source": [
    "users_data.groupby('passed_course').count()"
   ]
  },
  {
   "cell_type": "code",
   "execution_count": 298,
   "id": "7db14d11",
   "metadata": {
    "ExecuteTime": {
     "end_time": "2023-07-04T19:40:42.349229700Z",
     "start_time": "2023-07-04T19:40:42.142563700Z"
    }
   },
   "outputs": [
    {
     "data": {
      "text/plain": "8.001572238755687"
     },
     "execution_count": 298,
     "metadata": {},
     "output_type": "execute_result"
    }
   ],
   "source": [
    "1425 / 17809 * 100"
   ]
  },
  {
   "cell_type": "code",
   "execution_count": 299,
   "outputs": [
    {
     "data": {
      "text/plain": "20.0"
     },
     "execution_count": 299,
     "metadata": {},
     "output_type": "execute_result"
    }
   ],
   "source": [
    "users_data[users_data.passed_course].day.median()"
   ],
   "metadata": {
    "collapsed": false,
    "ExecuteTime": {
     "end_time": "2023-07-04T19:40:42.546731200Z",
     "start_time": "2023-07-04T19:40:42.390660700Z"
    }
   }
  },
  {
   "cell_type": "code",
   "execution_count": 300,
   "outputs": [
    {
     "data": {
      "text/plain": "<AxesSubplot: >"
     },
     "execution_count": 300,
     "metadata": {},
     "output_type": "execute_result"
    },
    {
     "data": {
      "text/plain": "<Figure size 640x480 with 1 Axes>",
      "image/png": "[encoded data removed]"
     },
     "metadata": {},
     "output_type": "display_data"
    }
   ],
   "source": [
    "users_data[users_data.passed_course].day.hist()"
   ],
   "metadata": {
    "collapsed": false,
    "ExecuteTime": {
     "end_time": "2023-07-04T19:40:42.775185Z",
     "start_time": "2023-07-04T19:40:42.538751800Z"
    }
   }
  },
  {
   "cell_type": "code",
   "execution_count": 301,
   "outputs": [],
   "source": [
    "user_min_time = events_data.groupby('user_id', as_index=False) \\\n",
    "    .agg({'timestamp': 'min'}) \\\n",
    "    .rename({'timestamp': 'min_timestamp'}, axis=1)"
   ],
   "metadata": {
    "collapsed": false,
    "ExecuteTime": {
     "end_time": "2023-07-04T19:40:42.866211500Z",
     "start_time": "2023-07-04T19:40:42.744267300Z"
    }
   }
  },
  {
   "cell_type": "code",
   "execution_count": 302,
   "outputs": [
    {
     "data": {
      "text/plain": "   user_id  min_timestamp\n0        1     1472827464\n1        2     1514383364\n2        3     1434358476\n3        5     1466156809\n4        7     1521634660",
      "text/html": "<div>\n<style scoped>\n    .dataframe tbody tr th:only-of-type {\n        vertical-align: middle;\n    }\n\n    .dataframe tbody tr th {\n        vertical-align: top;\n    }\n\n    .dataframe thead th {\n        text-align: right;\n    }\n</style>\n<table border=\"1\" class=\"dataframe\">\n  <thead>\n    <tr style=\"text-align: right;\">\n      <th></th>\n      <th>user_id</th>\n      <th>min_timestamp</th>\n    </tr>\n  </thead>\n  <tbody>\n    <tr>\n      <th>0</th>\n      <td>1</td>\n      <td>1472827464</td>\n    </tr>\n    <tr>\n      <th>1</th>\n      <td>2</td>\n      <td>1514383364</td>\n    </tr>\n    <tr>\n      <th>2</th>\n      <td>3</td>\n      <td>1434358476</td>\n    </tr>\n    <tr>\n      <th>3</th>\n      <td>5</td>\n      <td>1466156809</td>\n    </tr>\n    <tr>\n      <th>4</th>\n      <td>7</td>\n      <td>1521634660</td>\n    </tr>\n  </tbody>\n</table>\n</div>"
     },
     "execution_count": 302,
     "metadata": {},
     "output_type": "execute_result"
    }
   ],
   "source": [
    "user_min_time.head()"
   ],
   "metadata": {
    "collapsed": false,
    "ExecuteTime": {
     "end_time": "2023-07-04T19:40:43.027131900Z",
     "start_time": "2023-07-04T19:40:42.948890900Z"
    }
   }
  },
  {
   "cell_type": "code",
   "execution_count": 303,
   "outputs": [],
   "source": [
    "users_data = users_data.merge(user_min_time, how='outer')"
   ],
   "metadata": {
    "collapsed": false,
    "ExecuteTime": {
     "end_time": "2023-07-04T19:40:43.193216500Z",
     "start_time": "2023-07-04T19:40:43.135909800Z"
    }
   }
  },
  {
   "cell_type": "code",
   "execution_count": 304,
   "outputs": [
    {
     "data": {
      "text/plain": "       user_id  last_timestamp  is_gone_user  correct  wrong  day  discovered  \\\n0            1      1472827464          True      0.0    0.0    1           1   \n1            2      1519226966          True      2.0    0.0    2           9   \n2            3      1444581588          True     29.0   23.0    7          91   \n3            5      1499859939          True      2.0    2.0    2          11   \n4            7      1521634660          True      0.0    0.0    1           1   \n...        ...             ...           ...      ...    ...  ...         ...   \n19229    26790      1517495987          True      1.0    0.0    4           8   \n19230    26793      1510225034          True      0.0    0.0    1           1   \n19231    26794      1512035039          True     33.0    9.0    9          69   \n19232    26797      1509995096          True      2.0    0.0    2          10   \n19233    26798      1520978742          True      2.0    1.0    1          12   \n\n       passed  started_attempt  viewed  passed_course  min_timestamp  \n0           0                0       1          False     1472827464  \n1           9                2      10          False     1514383364  \n2          87               30     192          False     1434358476  \n3          11                4      12          False     1466156809  \n4           1                0       1          False     1521634660  \n...       ...              ...     ...            ...            ...  \n19229       8                1       9          False     1451484016  \n19230       0                1       1          False     1510225031  \n19231      69               34     180          False     1495287049  \n19232      10                2      13          False     1508425316  \n19233      12                3      12          False     1520975763  \n\n[19234 rows x 12 columns]",
      "text/html": "<div>\n<style scoped>\n    .dataframe tbody tr th:only-of-type {\n        vertical-align: middle;\n    }\n\n    .dataframe tbody tr th {\n        vertical-align: top;\n    }\n\n    .dataframe thead th {\n        text-align: right;\n    }\n</style>\n<table border=\"1\" class=\"dataframe\">\n  <thead>\n    <tr style=\"text-align: right;\">\n      <th></th>\n      <th>user_id</th>\n      <th>last_timestamp</th>\n      <th>is_gone_user</th>\n      <th>correct</th>\n      <th>wrong</th>\n      <th>day</th>\n      <th>discovered</th>\n      <th>passed</th>\n      <th>started_attempt</th>\n      <th>viewed</th>\n      <th>passed_course</th>\n      <th>min_timestamp</th>\n    </tr>\n  </thead>\n  <tbody>\n    <tr>\n      <th>0</th>\n      <td>1</td>\n      <td>1472827464</td>\n      <td>True</td>\n      <td>0.0</td>\n      <td>0.0</td>\n      <td>1</td>\n      <td>1</td>\n      <td>0</td>\n      <td>0</td>\n      <td>1</td>\n      <td>False</td>\n      <td>1472827464</td>\n    </tr>\n    <tr>\n      <th>1</th>\n      <td>2</td>\n      <td>1519226966</td>\n      <td>True</td>\n      <td>2.0</td>\n      <td>0.0</td>\n      <td>2</td>\n      <td>9</td>\n      <td>9</td>\n      <td>2</td>\n      <td>10</td>\n      <td>False</td>\n      <td>1514383364</td>\n    </tr>\n    <tr>\n      <th>2</th>\n      <td>3</td>\n      <td>1444581588</td>\n      <td>True</td>\n      <td>29.0</td>\n      <td>23.0</td>\n      <td>7</td>\n      <td>91</td>\n      <td>87</td>\n      <td>30</td>\n      <td>192</td>\n      <td>False</td>\n      <td>1434358476</td>\n    </tr>\n    <tr>\n      <th>3</th>\n      <td>5</td>\n      <td>1499859939</td>\n      <td>True</td>\n      <td>2.0</td>\n      <td>2.0</td>\n      <td>2</td>\n      <td>11</td>\n      <td>11</td>\n      <td>4</td>\n      <td>12</td>\n      <td>False</td>\n      <td>1466156809</td>\n    </tr>\n    <tr>\n      <th>4</th>\n      <td>7</td>\n      <td>1521634660</td>\n      <td>True</td>\n      <td>0.0</td>\n      <td>0.0</td>\n      <td>1</td>\n      <td>1</td>\n      <td>1</td>\n      <td>0</td>\n      <td>1</td>\n      <td>False</td>\n      <td>1521634660</td>\n    </tr>\n    <tr>\n      <th>...</th>\n      <td>...</td>\n      <td>...</td>\n      <td>...</td>\n      <td>...</td>\n      <td>...</td>\n      <td>...</td>\n      <td>...</td>\n      <td>...</td>\n      <td>...</td>\n      <td>...</td>\n      <td>...</td>\n      <td>...</td>\n    </tr>\n    <tr>\n      <th>19229</th>\n      <td>26790</td>\n      <td>1517495987</td>\n      <td>True</td>\n      <td>1.0</td>\n      <td>0.0</td>\n      <td>4</td>\n      <td>8</td>\n      <td>8</td>\n      <td>1</td>\n      <td>9</td>\n      <td>False</td>\n      <td>1451484016</td>\n    </tr>\n    <tr>\n      <th>19230</th>\n      <td>26793</td>\n      <td>1510225034</td>\n      <td>True</td>\n      <td>0.0</td>\n      <td>0.0</td>\n      <td>1</td>\n      <td>1</td>\n      <td>0</td>\n      <td>1</td>\n      <td>1</td>\n      <td>False</td>\n      <td>1510225031</td>\n    </tr>\n    <tr>\n      <th>19231</th>\n      <td>26794</td>\n      <td>1512035039</td>\n      <td>True</td>\n      <td>33.0</td>\n      <td>9.0</td>\n      <td>9</td>\n      <td>69</td>\n      <td>69</td>\n      <td>34</td>\n      <td>180</td>\n      <td>False</td>\n      <td>1495287049</td>\n    </tr>\n    <tr>\n      <th>19232</th>\n      <td>26797</td>\n      <td>1509995096</td>\n      <td>True</td>\n      <td>2.0</td>\n      <td>0.0</td>\n      <td>2</td>\n      <td>10</td>\n      <td>10</td>\n      <td>2</td>\n      <td>13</td>\n      <td>False</td>\n      <td>1508425316</td>\n    </tr>\n    <tr>\n      <th>19233</th>\n      <td>26798</td>\n      <td>1520978742</td>\n      <td>True</td>\n      <td>2.0</td>\n      <td>1.0</td>\n      <td>1</td>\n      <td>12</td>\n      <td>12</td>\n      <td>3</td>\n      <td>12</td>\n      <td>False</td>\n      <td>1520975763</td>\n    </tr>\n  </tbody>\n</table>\n<p>19234 rows × 12 columns</p>\n</div>"
     },
     "execution_count": 304,
     "metadata": {},
     "output_type": "execute_result"
    }
   ],
   "source": [
    "users_data"
   ],
   "metadata": {
    "collapsed": false,
    "ExecuteTime": {
     "end_time": "2023-07-04T19:40:43.333981Z",
     "start_time": "2023-07-04T19:40:43.278091600Z"
    }
   }
  },
  {
   "cell_type": "code",
   "execution_count": 305,
   "outputs": [
    {
     "data": {
      "text/plain": "   step_id   timestamp      action  user_id                data         day\n0    32815  1434340848      viewed    17632 2015-06-15 04:00:48  2015-06-15\n1    32815  1434340848      passed    17632 2015-06-15 04:00:48  2015-06-15\n2    32815  1434340848  discovered    17632 2015-06-15 04:00:48  2015-06-15\n3    32811  1434340895  discovered    17632 2015-06-15 04:01:35  2015-06-15\n4    32811  1434340895      viewed    17632 2015-06-15 04:01:35  2015-06-15",
      "text/html": "<div>\n<style scoped>\n    .dataframe tbody tr th:only-of-type {\n        vertical-align: middle;\n    }\n\n    .dataframe tbody tr th {\n        vertical-align: top;\n    }\n\n    .dataframe thead th {\n        text-align: right;\n    }\n</style>\n<table border=\"1\" class=\"dataframe\">\n  <thead>\n    <tr style=\"text-align: right;\">\n      <th></th>\n      <th>step_id</th>\n      <th>timestamp</th>\n      <th>action</th>\n      <th>user_id</th>\n      <th>data</th>\n      <th>day</th>\n    </tr>\n  </thead>\n  <tbody>\n    <tr>\n      <th>0</th>\n      <td>32815</td>\n      <td>1434340848</td>\n      <td>viewed</td>\n      <td>17632</td>\n      <td>2015-06-15 04:00:48</td>\n      <td>2015-06-15</td>\n    </tr>\n    <tr>\n      <th>1</th>\n      <td>32815</td>\n      <td>1434340848</td>\n      <td>passed</td>\n      <td>17632</td>\n      <td>2015-06-15 04:00:48</td>\n      <td>2015-06-15</td>\n    </tr>\n    <tr>\n      <th>2</th>\n      <td>32815</td>\n      <td>1434340848</td>\n      <td>discovered</td>\n      <td>17632</td>\n      <td>2015-06-15 04:00:48</td>\n      <td>2015-06-15</td>\n    </tr>\n    <tr>\n      <th>3</th>\n      <td>32811</td>\n      <td>1434340895</td>\n      <td>discovered</td>\n      <td>17632</td>\n      <td>2015-06-15 04:01:35</td>\n      <td>2015-06-15</td>\n    </tr>\n    <tr>\n      <th>4</th>\n      <td>32811</td>\n      <td>1434340895</td>\n      <td>viewed</td>\n      <td>17632</td>\n      <td>2015-06-15 04:01:35</td>\n      <td>2015-06-15</td>\n    </tr>\n  </tbody>\n</table>\n</div>"
     },
     "execution_count": 305,
     "metadata": {},
     "output_type": "execute_result"
    }
   ],
   "source": [
    "events_data.head()"
   ],
   "metadata": {
    "collapsed": false,
    "ExecuteTime": {
     "end_time": "2023-07-04T19:40:43.570143100Z",
     "start_time": "2023-07-04T19:40:43.474794400Z"
    }
   }
  },
  {
   "cell_type": "markdown",
   "source": [
    "Находим количество действий пользователя в ближайшие 3 дня"
   ],
   "metadata": {
    "collapsed": false
   }
  },
  {
   "cell_type": "code",
   "execution_count": 306,
   "outputs": [],
   "source": [
    "for user_id in users_data.user_id:\n",
    "    min_user_time = users_data[users_data.user_id == user_id].min_timestamp.item()\n",
    "    time_to_threshold = min_user_time * 3 * 24 * 60 * 60\n",
    "\n",
    "    users_events_data = events_data[(events_data.user_id == user_id) & (events_data.timestamp < time_to_treshold)]\n",
    "    break"
   ],
   "metadata": {
    "collapsed": false,
    "ExecuteTime": {
     "end_time": "2023-07-04T19:40:43.803150300Z",
     "start_time": "2023-07-04T19:40:43.764525400Z"
    }
   }
  },
  {
   "cell_type": "code",
   "execution_count": 307,
   "outputs": [
    {
     "data": {
      "text/plain": "         step_id   timestamp      action  user_id                data  \\\n0          32815  1434340848      viewed    17632 2015-06-15 04:00:48   \n1          32815  1434340848      passed    17632 2015-06-15 04:00:48   \n2          32815  1434340848  discovered    17632 2015-06-15 04:00:48   \n3          32811  1434340895  discovered    17632 2015-06-15 04:01:35   \n4          32811  1434340895      viewed    17632 2015-06-15 04:01:35   \n...          ...         ...         ...      ...                 ...   \n3480698    33375  1526772685      viewed    11677 2018-05-19 23:31:25   \n3480699    32815  1526772750      viewed     5198 2018-05-19 23:32:30   \n3480700    32815  1526772750  discovered     5198 2018-05-19 23:32:30   \n3480701    32815  1526772750      passed     5198 2018-05-19 23:32:30   \n3480702    33892  1526772811      viewed    18526 2018-05-19 23:33:31   \n\n                day  \n0        2015-06-15  \n1        2015-06-15  \n2        2015-06-15  \n3        2015-06-15  \n4        2015-06-15  \n...             ...  \n3480698  2018-05-19  \n3480699  2018-05-19  \n3480700  2018-05-19  \n3480701  2018-05-19  \n3480702  2018-05-19  \n\n[3480703 rows x 6 columns]",
      "text/html": "<div>\n<style scoped>\n    .dataframe tbody tr th:only-of-type {\n        vertical-align: middle;\n    }\n\n    .dataframe tbody tr th {\n        vertical-align: top;\n    }\n\n    .dataframe thead th {\n        text-align: right;\n    }\n</style>\n<table border=\"1\" class=\"dataframe\">\n  <thead>\n    <tr style=\"text-align: right;\">\n      <th></th>\n      <th>step_id</th>\n      <th>timestamp</th>\n      <th>action</th>\n      <th>user_id</th>\n      <th>data</th>\n      <th>day</th>\n    </tr>\n  </thead>\n  <tbody>\n    <tr>\n      <th>0</th>\n      <td>32815</td>\n      <td>1434340848</td>\n      <td>viewed</td>\n      <td>17632</td>\n      <td>2015-06-15 04:00:48</td>\n      <td>2015-06-15</td>\n    </tr>\n    <tr>\n      <th>1</th>\n      <td>32815</td>\n      <td>1434340848</td>\n      <td>passed</td>\n      <td>17632</td>\n      <td>2015-06-15 04:00:48</td>\n      <td>2015-06-15</td>\n    </tr>\n    <tr>\n      <th>2</th>\n      <td>32815</td>\n      <td>1434340848</td>\n      <td>discovered</td>\n      <td>17632</td>\n      <td>2015-06-15 04:00:48</td>\n      <td>2015-06-15</td>\n    </tr>\n    <tr>\n      <th>3</th>\n      <td>32811</td>\n      <td>1434340895</td>\n      <td>discovered</td>\n      <td>17632</td>\n      <td>2015-06-15 04:01:35</td>\n      <td>2015-06-15</td>\n    </tr>\n    <tr>\n      <th>4</th>\n      <td>32811</td>\n      <td>1434340895</td>\n      <td>viewed</td>\n      <td>17632</td>\n      <td>2015-06-15 04:01:35</td>\n      <td>2015-06-15</td>\n    </tr>\n    <tr>\n      <th>...</th>\n      <td>...</td>\n      <td>...</td>\n      <td>...</td>\n      <td>...</td>\n      <td>...</td>\n      <td>...</td>\n    </tr>\n    <tr>\n      <th>3480698</th>\n      <td>33375</td>\n      <td>1526772685</td>\n      <td>viewed</td>\n      <td>11677</td>\n      <td>2018-05-19 23:31:25</td>\n      <td>2018-05-19</td>\n    </tr>\n    <tr>\n      <th>3480699</th>\n      <td>32815</td>\n      <td>1526772750</td>\n      <td>viewed</td>\n      <td>5198</td>\n      <td>2018-05-19 23:32:30</td>\n      <td>2018-05-19</td>\n    </tr>\n    <tr>\n      <th>3480700</th>\n      <td>32815</td>\n      <td>1526772750</td>\n      <td>discovered</td>\n      <td>5198</td>\n      <td>2018-05-19 23:32:30</td>\n      <td>2018-05-19</td>\n    </tr>\n    <tr>\n      <th>3480701</th>\n      <td>32815</td>\n      <td>1526772750</td>\n      <td>passed</td>\n      <td>5198</td>\n      <td>2018-05-19 23:32:30</td>\n      <td>2018-05-19</td>\n    </tr>\n    <tr>\n      <th>3480702</th>\n      <td>33892</td>\n      <td>1526772811</td>\n      <td>viewed</td>\n      <td>18526</td>\n      <td>2018-05-19 23:33:31</td>\n      <td>2018-05-19</td>\n    </tr>\n  </tbody>\n</table>\n<p>3480703 rows × 6 columns</p>\n</div>"
     },
     "execution_count": 307,
     "metadata": {},
     "output_type": "execute_result"
    }
   ],
   "source": [
    "events_data"
   ],
   "metadata": {
    "collapsed": false,
    "ExecuteTime": {
     "end_time": "2023-07-04T19:40:43.970779800Z",
     "start_time": "2023-07-04T19:40:43.927566600Z"
    }
   }
  },
  {
   "cell_type": "code",
   "execution_count": 419,
   "outputs": [],
   "source": [
    "events_data['user_time'] = events_data.user_id.map(str) + '_' + events_data.timestamp.map(str)"
   ],
   "metadata": {
    "collapsed": false,
    "ExecuteTime": {
     "end_time": "2023-07-04T19:47:37.126154900Z",
     "start_time": "2023-07-04T19:47:35.474246200Z"
    }
   }
  },
  {
   "cell_type": "code",
   "execution_count": 420,
   "outputs": [
    {
     "data": {
      "text/plain": "         step_id   timestamp      action  user_id                data  \\\n0          32815  1434340848      viewed    17632 2015-06-15 04:00:48   \n1          32815  1434340848      passed    17632 2015-06-15 04:00:48   \n2          32815  1434340848  discovered    17632 2015-06-15 04:00:48   \n3          32811  1434340895  discovered    17632 2015-06-15 04:01:35   \n4          32811  1434340895      viewed    17632 2015-06-15 04:01:35   \n...          ...         ...         ...      ...                 ...   \n3480698    32814  1526762783  discovered      943 2018-05-19 20:46:23   \n3480699    32814  1526762783      passed      943 2018-05-19 20:46:23   \n3480700    32815  1526772750      viewed     5198 2018-05-19 23:32:30   \n3480701    32815  1526772750  discovered     5198 2018-05-19 23:32:30   \n3480702    32815  1526772750      passed     5198 2018-05-19 23:32:30   \n\n                day         user_time user_learning_time_threshold  \n0        2015-06-15  17632_1434340848             17632_1434600048  \n1        2015-06-15  17632_1434340848             17632_1434600048  \n2        2015-06-15  17632_1434340848             17632_1434600048  \n3        2015-06-15  17632_1434340895             17632_1434600048  \n4        2015-06-15  17632_1434340895             17632_1434600048  \n...             ...               ...                          ...  \n3480698  2018-05-19    943_1526762783               943_1527021864  \n3480699  2018-05-19    943_1526762783               943_1527021864  \n3480700  2018-05-19   5198_1526772750              5198_1527031950  \n3480701  2018-05-19   5198_1526772750              5198_1527031950  \n3480702  2018-05-19   5198_1526772750              5198_1527031950  \n\n[3480703 rows x 8 columns]",
      "text/html": "<div>\n<style scoped>\n    .dataframe tbody tr th:only-of-type {\n        vertical-align: middle;\n    }\n\n    .dataframe tbody tr th {\n        vertical-align: top;\n    }\n\n    .dataframe thead th {\n        text-align: right;\n    }\n</style>\n<table border=\"1\" class=\"dataframe\">\n  <thead>\n    <tr style=\"text-align: right;\">\n      <th></th>\n      <th>step_id</th>\n      <th>timestamp</th>\n      <th>action</th>\n      <th>user_id</th>\n      <th>data</th>\n      <th>day</th>\n      <th>user_time</th>\n      <th>user_learning_time_threshold</th>\n    </tr>\n  </thead>\n  <tbody>\n    <tr>\n      <th>0</th>\n      <td>32815</td>\n      <td>1434340848</td>\n      <td>viewed</td>\n      <td>17632</td>\n      <td>2015-06-15 04:00:48</td>\n      <td>2015-06-15</td>\n      <td>17632_1434340848</td>\n      <td>17632_1434600048</td>\n    </tr>\n    <tr>\n      <th>1</th>\n      <td>32815</td>\n      <td>1434340848</td>\n      <td>passed</td>\n      <td>17632</td>\n      <td>2015-06-15 04:00:48</td>\n      <td>2015-06-15</td>\n      <td>17632_1434340848</td>\n      <td>17632_1434600048</td>\n    </tr>\n    <tr>\n      <th>2</th>\n      <td>32815</td>\n      <td>1434340848</td>\n      <td>discovered</td>\n      <td>17632</td>\n      <td>2015-06-15 04:00:48</td>\n      <td>2015-06-15</td>\n      <td>17632_1434340848</td>\n      <td>17632_1434600048</td>\n    </tr>\n    <tr>\n      <th>3</th>\n      <td>32811</td>\n      <td>1434340895</td>\n      <td>discovered</td>\n      <td>17632</td>\n      <td>2015-06-15 04:01:35</td>\n      <td>2015-06-15</td>\n      <td>17632_1434340895</td>\n      <td>17632_1434600048</td>\n    </tr>\n    <tr>\n      <th>4</th>\n      <td>32811</td>\n      <td>1434340895</td>\n      <td>viewed</td>\n      <td>17632</td>\n      <td>2015-06-15 04:01:35</td>\n      <td>2015-06-15</td>\n      <td>17632_1434340895</td>\n      <td>17632_1434600048</td>\n    </tr>\n    <tr>\n      <th>...</th>\n      <td>...</td>\n      <td>...</td>\n      <td>...</td>\n      <td>...</td>\n      <td>...</td>\n      <td>...</td>\n      <td>...</td>\n      <td>...</td>\n    </tr>\n    <tr>\n      <th>3480698</th>\n      <td>32814</td>\n      <td>1526762783</td>\n      <td>discovered</td>\n      <td>943</td>\n      <td>2018-05-19 20:46:23</td>\n      <td>2018-05-19</td>\n      <td>943_1526762783</td>\n      <td>943_1527021864</td>\n    </tr>\n    <tr>\n      <th>3480699</th>\n      <td>32814</td>\n      <td>1526762783</td>\n      <td>passed</td>\n      <td>943</td>\n      <td>2018-05-19 20:46:23</td>\n      <td>2018-05-19</td>\n      <td>943_1526762783</td>\n      <td>943_1527021864</td>\n    </tr>\n    <tr>\n      <th>3480700</th>\n      <td>32815</td>\n      <td>1526772750</td>\n      <td>viewed</td>\n      <td>5198</td>\n      <td>2018-05-19 23:32:30</td>\n      <td>2018-05-19</td>\n      <td>5198_1526772750</td>\n      <td>5198_1527031950</td>\n    </tr>\n    <tr>\n      <th>3480701</th>\n      <td>32815</td>\n      <td>1526772750</td>\n      <td>discovered</td>\n      <td>5198</td>\n      <td>2018-05-19 23:32:30</td>\n      <td>2018-05-19</td>\n      <td>5198_1526772750</td>\n      <td>5198_1527031950</td>\n    </tr>\n    <tr>\n      <th>3480702</th>\n      <td>32815</td>\n      <td>1526772750</td>\n      <td>passed</td>\n      <td>5198</td>\n      <td>2018-05-19 23:32:30</td>\n      <td>2018-05-19</td>\n      <td>5198_1526772750</td>\n      <td>5198_1527031950</td>\n    </tr>\n  </tbody>\n</table>\n<p>3480703 rows × 8 columns</p>\n</div>"
     },
     "execution_count": 420,
     "metadata": {},
     "output_type": "execute_result"
    }
   ],
   "source": [
    "events_data"
   ],
   "metadata": {
    "collapsed": false,
    "ExecuteTime": {
     "end_time": "2023-07-04T19:47:37.138695700Z",
     "start_time": "2023-07-04T19:47:37.134199600Z"
    }
   }
  },
  {
   "cell_type": "code",
   "execution_count": 421,
   "outputs": [
    {
     "data": {
      "text/plain": "259200"
     },
     "execution_count": 421,
     "metadata": {},
     "output_type": "execute_result"
    }
   ],
   "source": [
    "learning_time_to_threshold = 3 * 24 * 60 * 60\n",
    "learning_time_to_threshold"
   ],
   "metadata": {
    "collapsed": false,
    "ExecuteTime": {
     "end_time": "2023-07-04T19:47:37.142268200Z",
     "start_time": "2023-07-04T19:47:37.136699400Z"
    }
   }
  },
  {
   "cell_type": "code",
   "execution_count": 422,
   "outputs": [
    {
     "data": {
      "text/plain": "0            1_1473086664\n1            2_1514642564\n2            3_1434617676\n3            5_1466416009\n4            7_1521893860\n               ...       \n19229    26790_1451743216\n19230    26793_1510484231\n19231    26794_1495546249\n19232    26797_1508684516\n19233    26798_1521234963\nLength: 19234, dtype: object"
     },
     "execution_count": 422,
     "metadata": {},
     "output_type": "execute_result"
    }
   ],
   "source": [
    "user_learning_time_threshold = user_min_time.user_id.map(str) + '_' + (\n",
    "            user_min_time.min_timestamp + learning_time_to_threshold).map(str)\n",
    "user_learning_time_threshold"
   ],
   "metadata": {
    "collapsed": false,
    "ExecuteTime": {
     "end_time": "2023-07-04T19:47:37.378332600Z",
     "start_time": "2023-07-04T19:47:37.347401100Z"
    }
   }
  },
  {
   "cell_type": "code",
   "execution_count": 423,
   "outputs": [],
   "source": [
    "user_min_time['user_learning_time_threshold'] = user_learning_time_threshold"
   ],
   "metadata": {
    "collapsed": false,
    "ExecuteTime": {
     "end_time": "2023-07-04T19:47:38.092392Z",
     "start_time": "2023-07-04T19:47:38.069217700Z"
    }
   }
  },
  {
   "cell_type": "code",
   "execution_count": 424,
   "outputs": [],
   "source": [
    "events_data = events_data.merge(user_min_time[['user_id', 'user_learning_time_threshold']], how='outer')"
   ],
   "metadata": {
    "collapsed": false,
    "ExecuteTime": {
     "end_time": "2023-07-04T19:47:39.311481500Z",
     "start_time": "2023-07-04T19:47:38.568312500Z"
    }
   }
  },
  {
   "cell_type": "code",
   "execution_count": 425,
   "outputs": [
    {
     "data": {
      "text/plain": "(3480703, 8)"
     },
     "execution_count": 425,
     "metadata": {},
     "output_type": "execute_result"
    }
   ],
   "source": [
    "events_data.shape"
   ],
   "metadata": {
    "collapsed": false,
    "ExecuteTime": {
     "end_time": "2023-07-04T19:47:39.316467700Z",
     "start_time": "2023-07-04T19:47:39.311481500Z"
    }
   }
  },
  {
   "cell_type": "code",
   "execution_count": 426,
   "outputs": [
    {
     "data": {
      "text/plain": "         step_id   timestamp      action  user_id                data  \\\n0          32815  1434340848      viewed    17632 2015-06-15 04:00:48   \n1          32815  1434340848      passed    17632 2015-06-15 04:00:48   \n2          32815  1434340848  discovered    17632 2015-06-15 04:00:48   \n3          32811  1434340895  discovered    17632 2015-06-15 04:01:35   \n4          32811  1434340895      viewed    17632 2015-06-15 04:01:35   \n...          ...         ...         ...      ...                 ...   \n3480698    32814  1526762783  discovered      943 2018-05-19 20:46:23   \n3480699    32814  1526762783      passed      943 2018-05-19 20:46:23   \n3480700    32815  1526772750      viewed     5198 2018-05-19 23:32:30   \n3480701    32815  1526772750  discovered     5198 2018-05-19 23:32:30   \n3480702    32815  1526772750      passed     5198 2018-05-19 23:32:30   \n\n                day         user_time user_learning_time_threshold  \n0        2015-06-15  17632_1434340848             17632_1434600048  \n1        2015-06-15  17632_1434340848             17632_1434600048  \n2        2015-06-15  17632_1434340848             17632_1434600048  \n3        2015-06-15  17632_1434340895             17632_1434600048  \n4        2015-06-15  17632_1434340895             17632_1434600048  \n...             ...               ...                          ...  \n3480698  2018-05-19    943_1526762783               943_1527021864  \n3480699  2018-05-19    943_1526762783               943_1527021864  \n3480700  2018-05-19   5198_1526772750              5198_1527031950  \n3480701  2018-05-19   5198_1526772750              5198_1527031950  \n3480702  2018-05-19   5198_1526772750              5198_1527031950  \n\n[3480703 rows x 8 columns]",
      "text/html": "<div>\n<style scoped>\n    .dataframe tbody tr th:only-of-type {\n        vertical-align: middle;\n    }\n\n    .dataframe tbody tr th {\n        vertical-align: top;\n    }\n\n    .dataframe thead th {\n        text-align: right;\n    }\n</style>\n<table border=\"1\" class=\"dataframe\">\n  <thead>\n    <tr style=\"text-align: right;\">\n      <th></th>\n      <th>step_id</th>\n      <th>timestamp</th>\n      <th>action</th>\n      <th>user_id</th>\n      <th>data</th>\n      <th>day</th>\n      <th>user_time</th>\n      <th>user_learning_time_threshold</th>\n    </tr>\n  </thead>\n  <tbody>\n    <tr>\n      <th>0</th>\n      <td>32815</td>\n      <td>1434340848</td>\n      <td>viewed</td>\n      <td>17632</td>\n      <td>2015-06-15 04:00:48</td>\n      <td>2015-06-15</td>\n      <td>17632_1434340848</td>\n      <td>17632_1434600048</td>\n    </tr>\n    <tr>\n      <th>1</th>\n      <td>32815</td>\n      <td>1434340848</td>\n      <td>passed</td>\n      <td>17632</td>\n      <td>2015-06-15 04:00:48</td>\n      <td>2015-06-15</td>\n      <td>17632_1434340848</td>\n      <td>17632_1434600048</td>\n    </tr>\n    <tr>\n      <th>2</th>\n      <td>32815</td>\n      <td>1434340848</td>\n      <td>discovered</td>\n      <td>17632</td>\n      <td>2015-06-15 04:00:48</td>\n      <td>2015-06-15</td>\n      <td>17632_1434340848</td>\n      <td>17632_1434600048</td>\n    </tr>\n    <tr>\n      <th>3</th>\n      <td>32811</td>\n      <td>1434340895</td>\n      <td>discovered</td>\n      <td>17632</td>\n      <td>2015-06-15 04:01:35</td>\n      <td>2015-06-15</td>\n      <td>17632_1434340895</td>\n      <td>17632_1434600048</td>\n    </tr>\n    <tr>\n      <th>4</th>\n      <td>32811</td>\n      <td>1434340895</td>\n      <td>viewed</td>\n      <td>17632</td>\n      <td>2015-06-15 04:01:35</td>\n      <td>2015-06-15</td>\n      <td>17632_1434340895</td>\n      <td>17632_1434600048</td>\n    </tr>\n    <tr>\n      <th>...</th>\n      <td>...</td>\n      <td>...</td>\n      <td>...</td>\n      <td>...</td>\n      <td>...</td>\n      <td>...</td>\n      <td>...</td>\n      <td>...</td>\n    </tr>\n    <tr>\n      <th>3480698</th>\n      <td>32814</td>\n      <td>1526762783</td>\n      <td>discovered</td>\n      <td>943</td>\n      <td>2018-05-19 20:46:23</td>\n      <td>2018-05-19</td>\n      <td>943_1526762783</td>\n      <td>943_1527021864</td>\n    </tr>\n    <tr>\n      <th>3480699</th>\n      <td>32814</td>\n      <td>1526762783</td>\n      <td>passed</td>\n      <td>943</td>\n      <td>2018-05-19 20:46:23</td>\n      <td>2018-05-19</td>\n      <td>943_1526762783</td>\n      <td>943_1527021864</td>\n    </tr>\n    <tr>\n      <th>3480700</th>\n      <td>32815</td>\n      <td>1526772750</td>\n      <td>viewed</td>\n      <td>5198</td>\n      <td>2018-05-19 23:32:30</td>\n      <td>2018-05-19</td>\n      <td>5198_1526772750</td>\n      <td>5198_1527031950</td>\n    </tr>\n    <tr>\n      <th>3480701</th>\n      <td>32815</td>\n      <td>1526772750</td>\n      <td>discovered</td>\n      <td>5198</td>\n      <td>2018-05-19 23:32:30</td>\n      <td>2018-05-19</td>\n      <td>5198_1526772750</td>\n      <td>5198_1527031950</td>\n    </tr>\n    <tr>\n      <th>3480702</th>\n      <td>32815</td>\n      <td>1526772750</td>\n      <td>passed</td>\n      <td>5198</td>\n      <td>2018-05-19 23:32:30</td>\n      <td>2018-05-19</td>\n      <td>5198_1526772750</td>\n      <td>5198_1527031950</td>\n    </tr>\n  </tbody>\n</table>\n<p>3480703 rows × 8 columns</p>\n</div>"
     },
     "execution_count": 426,
     "metadata": {},
     "output_type": "execute_result"
    }
   ],
   "source": [
    "events_data"
   ],
   "metadata": {
    "collapsed": false,
    "ExecuteTime": {
     "end_time": "2023-07-04T19:47:39.523416300Z",
     "start_time": "2023-07-04T19:47:39.463059700Z"
    }
   }
  },
  {
   "cell_type": "code",
   "execution_count": 427,
   "outputs": [],
   "source": [
    "events_data_train = events_data[events_data.user_time <= events_data.user_learning_time_threshold]"
   ],
   "metadata": {
    "collapsed": false,
    "ExecuteTime": {
     "end_time": "2023-07-04T19:47:40.695099900Z",
     "start_time": "2023-07-04T19:47:40.123306200Z"
    }
   }
  },
  {
   "cell_type": "code",
   "execution_count": 428,
   "outputs": [
    {
     "data": {
      "text/plain": "         step_id   timestamp      action  user_id                data  \\\n0          32815  1434340848      viewed    17632 2015-06-15 04:00:48   \n1          32815  1434340848      passed    17632 2015-06-15 04:00:48   \n2          32815  1434340848  discovered    17632 2015-06-15 04:00:48   \n3          32811  1434340895  discovered    17632 2015-06-15 04:01:35   \n4          32811  1434340895      viewed    17632 2015-06-15 04:01:35   \n...          ...         ...         ...      ...                 ...   \n3480698    32814  1526762783  discovered      943 2018-05-19 20:46:23   \n3480699    32814  1526762783      passed      943 2018-05-19 20:46:23   \n3480700    32815  1526772750      viewed     5198 2018-05-19 23:32:30   \n3480701    32815  1526772750  discovered     5198 2018-05-19 23:32:30   \n3480702    32815  1526772750      passed     5198 2018-05-19 23:32:30   \n\n                day         user_time user_learning_time_threshold  \n0        2015-06-15  17632_1434340848             17632_1434600048  \n1        2015-06-15  17632_1434340848             17632_1434600048  \n2        2015-06-15  17632_1434340848             17632_1434600048  \n3        2015-06-15  17632_1434340895             17632_1434600048  \n4        2015-06-15  17632_1434340895             17632_1434600048  \n...             ...               ...                          ...  \n3480698  2018-05-19    943_1526762783               943_1527021864  \n3480699  2018-05-19    943_1526762783               943_1527021864  \n3480700  2018-05-19   5198_1526772750              5198_1527031950  \n3480701  2018-05-19   5198_1526772750              5198_1527031950  \n3480702  2018-05-19   5198_1526772750              5198_1527031950  \n\n[1014985 rows x 8 columns]",
      "text/html": "<div>\n<style scoped>\n    .dataframe tbody tr th:only-of-type {\n        vertical-align: middle;\n    }\n\n    .dataframe tbody tr th {\n        vertical-align: top;\n    }\n\n    .dataframe thead th {\n        text-align: right;\n    }\n</style>\n<table border=\"1\" class=\"dataframe\">\n  <thead>\n    <tr style=\"text-align: right;\">\n      <th></th>\n      <th>step_id</th>\n      <th>timestamp</th>\n      <th>action</th>\n      <th>user_id</th>\n      <th>data</th>\n      <th>day</th>\n      <th>user_time</th>\n      <th>user_learning_time_threshold</th>\n    </tr>\n  </thead>\n  <tbody>\n    <tr>\n      <th>0</th>\n      <td>32815</td>\n      <td>1434340848</td>\n      <td>viewed</td>\n      <td>17632</td>\n      <td>2015-06-15 04:00:48</td>\n      <td>2015-06-15</td>\n      <td>17632_1434340848</td>\n      <td>17632_1434600048</td>\n    </tr>\n    <tr>\n      <th>1</th>\n      <td>32815</td>\n      <td>1434340848</td>\n      <td>passed</td>\n      <td>17632</td>\n      <td>2015-06-15 04:00:48</td>\n      <td>2015-06-15</td>\n      <td>17632_1434340848</td>\n      <td>17632_1434600048</td>\n    </tr>\n    <tr>\n      <th>2</th>\n      <td>32815</td>\n      <td>1434340848</td>\n      <td>discovered</td>\n      <td>17632</td>\n      <td>2015-06-15 04:00:48</td>\n      <td>2015-06-15</td>\n      <td>17632_1434340848</td>\n      <td>17632_1434600048</td>\n    </tr>\n    <tr>\n      <th>3</th>\n      <td>32811</td>\n      <td>1434340895</td>\n      <td>discovered</td>\n      <td>17632</td>\n      <td>2015-06-15 04:01:35</td>\n      <td>2015-06-15</td>\n      <td>17632_1434340895</td>\n      <td>17632_1434600048</td>\n    </tr>\n    <tr>\n      <th>4</th>\n      <td>32811</td>\n      <td>1434340895</td>\n      <td>viewed</td>\n      <td>17632</td>\n      <td>2015-06-15 04:01:35</td>\n      <td>2015-06-15</td>\n      <td>17632_1434340895</td>\n      <td>17632_1434600048</td>\n    </tr>\n    <tr>\n      <th>...</th>\n      <td>...</td>\n      <td>...</td>\n      <td>...</td>\n      <td>...</td>\n      <td>...</td>\n      <td>...</td>\n      <td>...</td>\n      <td>...</td>\n    </tr>\n    <tr>\n      <th>3480698</th>\n      <td>32814</td>\n      <td>1526762783</td>\n      <td>discovered</td>\n      <td>943</td>\n      <td>2018-05-19 20:46:23</td>\n      <td>2018-05-19</td>\n      <td>943_1526762783</td>\n      <td>943_1527021864</td>\n    </tr>\n    <tr>\n      <th>3480699</th>\n      <td>32814</td>\n      <td>1526762783</td>\n      <td>passed</td>\n      <td>943</td>\n      <td>2018-05-19 20:46:23</td>\n      <td>2018-05-19</td>\n      <td>943_1526762783</td>\n      <td>943_1527021864</td>\n    </tr>\n    <tr>\n      <th>3480700</th>\n      <td>32815</td>\n      <td>1526772750</td>\n      <td>viewed</td>\n      <td>5198</td>\n      <td>2018-05-19 23:32:30</td>\n      <td>2018-05-19</td>\n      <td>5198_1526772750</td>\n      <td>5198_1527031950</td>\n    </tr>\n    <tr>\n      <th>3480701</th>\n      <td>32815</td>\n      <td>1526772750</td>\n      <td>discovered</td>\n      <td>5198</td>\n      <td>2018-05-19 23:32:30</td>\n      <td>2018-05-19</td>\n      <td>5198_1526772750</td>\n      <td>5198_1527031950</td>\n    </tr>\n    <tr>\n      <th>3480702</th>\n      <td>32815</td>\n      <td>1526772750</td>\n      <td>passed</td>\n      <td>5198</td>\n      <td>2018-05-19 23:32:30</td>\n      <td>2018-05-19</td>\n      <td>5198_1526772750</td>\n      <td>5198_1527031950</td>\n    </tr>\n  </tbody>\n</table>\n<p>1014985 rows × 8 columns</p>\n</div>"
     },
     "execution_count": 428,
     "metadata": {},
     "output_type": "execute_result"
    }
   ],
   "source": [
    "events_data_train"
   ],
   "metadata": {
    "collapsed": false,
    "ExecuteTime": {
     "end_time": "2023-07-04T19:47:40.717231200Z",
     "start_time": "2023-07-04T19:47:40.697094900Z"
    }
   }
  },
  {
   "cell_type": "code",
   "execution_count": 429,
   "outputs": [
    {
     "data": {
      "text/plain": "   step_id     timestamp submission_status  user_id                data  \\\n0  31978.0  1.491590e+09             wrong    12265 2017-04-07 18:38:33   \n\n          day          users_time user_learning_time_threshold  \n0  2015-07-06  21158_1491590313.0             12265_1523211138  ",
      "text/html": "<div>\n<style scoped>\n    .dataframe tbody tr th:only-of-type {\n        vertical-align: middle;\n    }\n\n    .dataframe tbody tr th {\n        vertical-align: top;\n    }\n\n    .dataframe thead th {\n        text-align: right;\n    }\n</style>\n<table border=\"1\" class=\"dataframe\">\n  <thead>\n    <tr style=\"text-align: right;\">\n      <th></th>\n      <th>step_id</th>\n      <th>timestamp</th>\n      <th>submission_status</th>\n      <th>user_id</th>\n      <th>data</th>\n      <th>day</th>\n      <th>users_time</th>\n      <th>user_learning_time_threshold</th>\n    </tr>\n  </thead>\n  <tbody>\n    <tr>\n      <th>0</th>\n      <td>31978.0</td>\n      <td>1.491590e+09</td>\n      <td>wrong</td>\n      <td>12265</td>\n      <td>2017-04-07 18:38:33</td>\n      <td>2015-07-06</td>\n      <td>21158_1491590313.0</td>\n      <td>12265_1523211138</td>\n    </tr>\n  </tbody>\n</table>\n</div>"
     },
     "execution_count": 429,
     "metadata": {},
     "output_type": "execute_result"
    }
   ],
   "source": [
    "submissions_data.mode()"
   ],
   "metadata": {
    "collapsed": false,
    "ExecuteTime": {
     "end_time": "2023-07-04T19:47:41.911025700Z",
     "start_time": "2023-07-04T19:47:41.244234800Z"
    }
   }
  },
  {
   "cell_type": "markdown",
   "source": [],
   "metadata": {
    "collapsed": false
   }
  },
  {
   "cell_type": "code",
   "execution_count": 430,
   "outputs": [
    {
     "data": {
      "text/plain": "4"
     },
     "execution_count": 430,
     "metadata": {},
     "output_type": "execute_result"
    }
   ],
   "source": [
    "events_data_train.groupby('user_id').day.nunique().max()"
   ],
   "metadata": {
    "collapsed": false,
    "ExecuteTime": {
     "end_time": "2023-07-04T19:47:42.524015200Z",
     "start_time": "2023-07-04T19:47:42.386383Z"
    }
   }
  },
  {
   "cell_type": "code",
   "execution_count": 431,
   "outputs": [
    {
     "data": {
      "text/plain": "4"
     },
     "execution_count": 431,
     "metadata": {},
     "output_type": "execute_result"
    }
   ],
   "source": [
    "submissions_data['users_time'] = submissions_data.user_id.map(str) + '_' + submissions_data.timestamp.map(str)\n",
    "submissions_data = submissions_data.merge(user_min_time[['user_id', 'user_learning_time_threshold']], how='outer')\n",
    "submissions_data_train = submissions_data[submissions_data.users_time <= submissions_data.user_learning_time_threshold]\n",
    "submissions_data_train.groupby('user_id').day.nunique().max()"
   ],
   "metadata": {
    "collapsed": false,
    "ExecuteTime": {
     "end_time": "2023-07-04T19:47:43.286145700Z",
     "start_time": "2023-07-04T19:47:42.754885500Z"
    }
   }
  },
  {
   "cell_type": "code",
   "execution_count": 432,
   "outputs": [],
   "source": [
    "X = submissions_data_train.groupby('user_id').day.nunique().to_frame().reset_index().rename(columns={'day': 'days'})"
   ],
   "metadata": {
    "collapsed": false,
    "ExecuteTime": {
     "end_time": "2023-07-04T19:47:43.412151100Z",
     "start_time": "2023-07-04T19:47:43.330556500Z"
    }
   }
  },
  {
   "cell_type": "code",
   "execution_count": 433,
   "outputs": [
    {
     "data": {
      "text/plain": "   user_id  days\n0        2     1\n1        3     1\n2        8     1\n3       14     1\n4       16     3",
      "text/html": "<div>\n<style scoped>\n    .dataframe tbody tr th:only-of-type {\n        vertical-align: middle;\n    }\n\n    .dataframe tbody tr th {\n        vertical-align: top;\n    }\n\n    .dataframe thead th {\n        text-align: right;\n    }\n</style>\n<table border=\"1\" class=\"dataframe\">\n  <thead>\n    <tr style=\"text-align: right;\">\n      <th></th>\n      <th>user_id</th>\n      <th>days</th>\n    </tr>\n  </thead>\n  <tbody>\n    <tr>\n      <th>0</th>\n      <td>2</td>\n      <td>1</td>\n    </tr>\n    <tr>\n      <th>1</th>\n      <td>3</td>\n      <td>1</td>\n    </tr>\n    <tr>\n      <th>2</th>\n      <td>8</td>\n      <td>1</td>\n    </tr>\n    <tr>\n      <th>3</th>\n      <td>14</td>\n      <td>1</td>\n    </tr>\n    <tr>\n      <th>4</th>\n      <td>16</td>\n      <td>3</td>\n    </tr>\n  </tbody>\n</table>\n</div>"
     },
     "execution_count": 433,
     "metadata": {},
     "output_type": "execute_result"
    }
   ],
   "source": [
    "X.head()"
   ],
   "metadata": {
    "collapsed": false,
    "ExecuteTime": {
     "end_time": "2023-07-04T19:47:44.045912100Z",
     "start_time": "2023-07-04T19:47:44.019456800Z"
    }
   }
  },
  {
   "cell_type": "code",
   "execution_count": 434,
   "outputs": [],
   "source": [
    "steps_tried = submissions_data_train.groupby('user_id').step_id.nunique().to_frame().reset_index().rename(\n",
    "    columns={'step_id': 'steps_tried'})"
   ],
   "metadata": {
    "collapsed": false,
    "ExecuteTime": {
     "end_time": "2023-07-04T19:47:44.888314800Z",
     "start_time": "2023-07-04T19:47:44.843294300Z"
    }
   }
  },
  {
   "cell_type": "code",
   "execution_count": 435,
   "outputs": [
    {
     "data": {
      "text/plain": "   user_id  steps_tried\n0        2            2\n1        3            4\n2        8           11\n3       14            1\n4       16           23",
      "text/html": "<div>\n<style scoped>\n    .dataframe tbody tr th:only-of-type {\n        vertical-align: middle;\n    }\n\n    .dataframe tbody tr th {\n        vertical-align: top;\n    }\n\n    .dataframe thead th {\n        text-align: right;\n    }\n</style>\n<table border=\"1\" class=\"dataframe\">\n  <thead>\n    <tr style=\"text-align: right;\">\n      <th></th>\n      <th>user_id</th>\n      <th>steps_tried</th>\n    </tr>\n  </thead>\n  <tbody>\n    <tr>\n      <th>0</th>\n      <td>2</td>\n      <td>2</td>\n    </tr>\n    <tr>\n      <th>1</th>\n      <td>3</td>\n      <td>4</td>\n    </tr>\n    <tr>\n      <th>2</th>\n      <td>8</td>\n      <td>11</td>\n    </tr>\n    <tr>\n      <th>3</th>\n      <td>14</td>\n      <td>1</td>\n    </tr>\n    <tr>\n      <th>4</th>\n      <td>16</td>\n      <td>23</td>\n    </tr>\n  </tbody>\n</table>\n</div>"
     },
     "execution_count": 435,
     "metadata": {},
     "output_type": "execute_result"
    }
   ],
   "source": [
    "steps_tried.head()"
   ],
   "metadata": {
    "collapsed": false,
    "ExecuteTime": {
     "end_time": "2023-07-04T19:47:45.234526Z",
     "start_time": "2023-07-04T19:47:45.204196Z"
    }
   }
  },
  {
   "cell_type": "code",
   "execution_count": 436,
   "outputs": [],
   "source": [
    "X = X.merge(steps_tried, on='user_id', how='outer')"
   ],
   "metadata": {
    "collapsed": false,
    "ExecuteTime": {
     "end_time": "2023-07-04T19:47:45.756076500Z",
     "start_time": "2023-07-04T19:47:45.745049500Z"
    }
   }
  },
  {
   "cell_type": "code",
   "execution_count": 437,
   "outputs": [
    {
     "data": {
      "text/plain": "      user_id  days  steps_tried\n0           2     1            2\n1           3     1            4\n2           8     1           11\n3          14     1            1\n4          16     3           23\n...       ...   ...          ...\n8908    26787     1            3\n8909    26790     1            1\n8910    26794     3           27\n8911    26797     1            2\n8912    26798     1            2\n\n[8913 rows x 3 columns]",
      "text/html": "<div>\n<style scoped>\n    .dataframe tbody tr th:only-of-type {\n        vertical-align: middle;\n    }\n\n    .dataframe tbody tr th {\n        vertical-align: top;\n    }\n\n    .dataframe thead th {\n        text-align: right;\n    }\n</style>\n<table border=\"1\" class=\"dataframe\">\n  <thead>\n    <tr style=\"text-align: right;\">\n      <th></th>\n      <th>user_id</th>\n      <th>days</th>\n      <th>steps_tried</th>\n    </tr>\n  </thead>\n  <tbody>\n    <tr>\n      <th>0</th>\n      <td>2</td>\n      <td>1</td>\n      <td>2</td>\n    </tr>\n    <tr>\n      <th>1</th>\n      <td>3</td>\n      <td>1</td>\n      <td>4</td>\n    </tr>\n    <tr>\n      <th>2</th>\n      <td>8</td>\n      <td>1</td>\n      <td>11</td>\n    </tr>\n    <tr>\n      <th>3</th>\n      <td>14</td>\n      <td>1</td>\n      <td>1</td>\n    </tr>\n    <tr>\n      <th>4</th>\n      <td>16</td>\n      <td>3</td>\n      <td>23</td>\n    </tr>\n    <tr>\n      <th>...</th>\n      <td>...</td>\n      <td>...</td>\n      <td>...</td>\n    </tr>\n    <tr>\n      <th>8908</th>\n      <td>26787</td>\n      <td>1</td>\n      <td>3</td>\n    </tr>\n    <tr>\n      <th>8909</th>\n      <td>26790</td>\n      <td>1</td>\n      <td>1</td>\n    </tr>\n    <tr>\n      <th>8910</th>\n      <td>26794</td>\n      <td>3</td>\n      <td>27</td>\n    </tr>\n    <tr>\n      <th>8911</th>\n      <td>26797</td>\n      <td>1</td>\n      <td>2</td>\n    </tr>\n    <tr>\n      <th>8912</th>\n      <td>26798</td>\n      <td>1</td>\n      <td>2</td>\n    </tr>\n  </tbody>\n</table>\n<p>8913 rows × 3 columns</p>\n</div>"
     },
     "execution_count": 437,
     "metadata": {},
     "output_type": "execute_result"
    }
   ],
   "source": [
    "X"
   ],
   "metadata": {
    "collapsed": false,
    "ExecuteTime": {
     "end_time": "2023-07-04T19:47:46.258170900Z",
     "start_time": "2023-07-04T19:47:46.229929Z"
    }
   }
  },
  {
   "cell_type": "code",
   "execution_count": 438,
   "outputs": [],
   "source": [
    "X = X.merge(submissions_data_train.pivot_table(index='user_id',\n",
    "                                               columns='submission_status',\n",
    "                                               values='step_id',\n",
    "                                               aggfunc='count', fill_value=0).reset_index(), how='outer')"
   ],
   "metadata": {
    "collapsed": false,
    "ExecuteTime": {
     "end_time": "2023-07-04T19:47:46.989173500Z",
     "start_time": "2023-07-04T19:47:46.950171700Z"
    }
   }
  },
  {
   "cell_type": "code",
   "execution_count": 439,
   "outputs": [
    {
     "data": {
      "text/plain": "      user_id  days  steps_tried  correct  wrong\n0           2     1            2        2      0\n1           3     1            4        4      4\n2           8     1           11        9     21\n3          14     1            1        0      1\n4          16     3           23       23     27\n...       ...   ...          ...      ...    ...\n8908    26787     1            3        3      0\n8909    26790     1            1        1      0\n8910    26794     3           27       31      9\n8911    26797     1            2        2      0\n8912    26798     1            2        2      1\n\n[8913 rows x 5 columns]",
      "text/html": "<div>\n<style scoped>\n    .dataframe tbody tr th:only-of-type {\n        vertical-align: middle;\n    }\n\n    .dataframe tbody tr th {\n        vertical-align: top;\n    }\n\n    .dataframe thead th {\n        text-align: right;\n    }\n</style>\n<table border=\"1\" class=\"dataframe\">\n  <thead>\n    <tr style=\"text-align: right;\">\n      <th></th>\n      <th>user_id</th>\n      <th>days</th>\n      <th>steps_tried</th>\n      <th>correct</th>\n      <th>wrong</th>\n    </tr>\n  </thead>\n  <tbody>\n    <tr>\n      <th>0</th>\n      <td>2</td>\n      <td>1</td>\n      <td>2</td>\n      <td>2</td>\n      <td>0</td>\n    </tr>\n    <tr>\n      <th>1</th>\n      <td>3</td>\n      <td>1</td>\n      <td>4</td>\n      <td>4</td>\n      <td>4</td>\n    </tr>\n    <tr>\n      <th>2</th>\n      <td>8</td>\n      <td>1</td>\n      <td>11</td>\n      <td>9</td>\n      <td>21</td>\n    </tr>\n    <tr>\n      <th>3</th>\n      <td>14</td>\n      <td>1</td>\n      <td>1</td>\n      <td>0</td>\n      <td>1</td>\n    </tr>\n    <tr>\n      <th>4</th>\n      <td>16</td>\n      <td>3</td>\n      <td>23</td>\n      <td>23</td>\n      <td>27</td>\n    </tr>\n    <tr>\n      <th>...</th>\n      <td>...</td>\n      <td>...</td>\n      <td>...</td>\n      <td>...</td>\n      <td>...</td>\n    </tr>\n    <tr>\n      <th>8908</th>\n      <td>26787</td>\n      <td>1</td>\n      <td>3</td>\n      <td>3</td>\n      <td>0</td>\n    </tr>\n    <tr>\n      <th>8909</th>\n      <td>26790</td>\n      <td>1</td>\n      <td>1</td>\n      <td>1</td>\n      <td>0</td>\n    </tr>\n    <tr>\n      <th>8910</th>\n      <td>26794</td>\n      <td>3</td>\n      <td>27</td>\n      <td>31</td>\n      <td>9</td>\n    </tr>\n    <tr>\n      <th>8911</th>\n      <td>26797</td>\n      <td>1</td>\n      <td>2</td>\n      <td>2</td>\n      <td>0</td>\n    </tr>\n    <tr>\n      <th>8912</th>\n      <td>26798</td>\n      <td>1</td>\n      <td>2</td>\n      <td>2</td>\n      <td>1</td>\n    </tr>\n  </tbody>\n</table>\n<p>8913 rows × 5 columns</p>\n</div>"
     },
     "execution_count": 439,
     "metadata": {},
     "output_type": "execute_result"
    }
   ],
   "source": [
    "X"
   ],
   "metadata": {
    "collapsed": false,
    "ExecuteTime": {
     "end_time": "2023-07-04T19:47:47.954040800Z",
     "start_time": "2023-07-04T19:47:47.852489500Z"
    }
   }
  },
  {
   "cell_type": "code",
   "execution_count": 440,
   "outputs": [],
   "source": [
    "X['correct_ration'] = X.correct / (X.correct + X.wrong)"
   ],
   "metadata": {
    "collapsed": false,
    "ExecuteTime": {
     "end_time": "2023-07-04T19:47:48.291730700Z",
     "start_time": "2023-07-04T19:47:48.273232800Z"
    }
   }
  },
  {
   "cell_type": "code",
   "execution_count": 441,
   "outputs": [
    {
     "data": {
      "text/plain": "      user_id  days  steps_tried  correct  wrong  correct_ration\n0           2     1            2        2      0        1.000000\n1           3     1            4        4      4        0.500000\n2           8     1           11        9     21        0.300000\n3          14     1            1        0      1        0.000000\n4          16     3           23       23     27        0.460000\n...       ...   ...          ...      ...    ...             ...\n8908    26787     1            3        3      0        1.000000\n8909    26790     1            1        1      0        1.000000\n8910    26794     3           27       31      9        0.775000\n8911    26797     1            2        2      0        1.000000\n8912    26798     1            2        2      1        0.666667\n\n[8913 rows x 6 columns]",
      "text/html": "<div>\n<style scoped>\n    .dataframe tbody tr th:only-of-type {\n        vertical-align: middle;\n    }\n\n    .dataframe tbody tr th {\n        vertical-align: top;\n    }\n\n    .dataframe thead th {\n        text-align: right;\n    }\n</style>\n<table border=\"1\" class=\"dataframe\">\n  <thead>\n    <tr style=\"text-align: right;\">\n      <th></th>\n      <th>user_id</th>\n      <th>days</th>\n      <th>steps_tried</th>\n      <th>correct</th>\n      <th>wrong</th>\n      <th>correct_ration</th>\n    </tr>\n  </thead>\n  <tbody>\n    <tr>\n      <th>0</th>\n      <td>2</td>\n      <td>1</td>\n      <td>2</td>\n      <td>2</td>\n      <td>0</td>\n      <td>1.000000</td>\n    </tr>\n    <tr>\n      <th>1</th>\n      <td>3</td>\n      <td>1</td>\n      <td>4</td>\n      <td>4</td>\n      <td>4</td>\n      <td>0.500000</td>\n    </tr>\n    <tr>\n      <th>2</th>\n      <td>8</td>\n      <td>1</td>\n      <td>11</td>\n      <td>9</td>\n      <td>21</td>\n      <td>0.300000</td>\n    </tr>\n    <tr>\n      <th>3</th>\n      <td>14</td>\n      <td>1</td>\n      <td>1</td>\n      <td>0</td>\n      <td>1</td>\n      <td>0.000000</td>\n    </tr>\n    <tr>\n      <th>4</th>\n      <td>16</td>\n      <td>3</td>\n      <td>23</td>\n      <td>23</td>\n      <td>27</td>\n      <td>0.460000</td>\n    </tr>\n    <tr>\n      <th>...</th>\n      <td>...</td>\n      <td>...</td>\n      <td>...</td>\n      <td>...</td>\n      <td>...</td>\n      <td>...</td>\n    </tr>\n    <tr>\n      <th>8908</th>\n      <td>26787</td>\n      <td>1</td>\n      <td>3</td>\n      <td>3</td>\n      <td>0</td>\n      <td>1.000000</td>\n    </tr>\n    <tr>\n      <th>8909</th>\n      <td>26790</td>\n      <td>1</td>\n      <td>1</td>\n      <td>1</td>\n      <td>0</td>\n      <td>1.000000</td>\n    </tr>\n    <tr>\n      <th>8910</th>\n      <td>26794</td>\n      <td>3</td>\n      <td>27</td>\n      <td>31</td>\n      <td>9</td>\n      <td>0.775000</td>\n    </tr>\n    <tr>\n      <th>8911</th>\n      <td>26797</td>\n      <td>1</td>\n      <td>2</td>\n      <td>2</td>\n      <td>0</td>\n      <td>1.000000</td>\n    </tr>\n    <tr>\n      <th>8912</th>\n      <td>26798</td>\n      <td>1</td>\n      <td>2</td>\n      <td>2</td>\n      <td>1</td>\n      <td>0.666667</td>\n    </tr>\n  </tbody>\n</table>\n<p>8913 rows × 6 columns</p>\n</div>"
     },
     "execution_count": 441,
     "metadata": {},
     "output_type": "execute_result"
    }
   ],
   "source": [
    "X"
   ],
   "metadata": {
    "collapsed": false,
    "ExecuteTime": {
     "end_time": "2023-07-04T19:47:48.584321700Z",
     "start_time": "2023-07-04T19:47:48.558582500Z"
    }
   }
  },
  {
   "cell_type": "code",
   "execution_count": 442,
   "outputs": [
    {
     "data": {
      "text/plain": "      user_id  days  steps_tried  correct  wrong  correct_ration\n0           2     1            2        2      0        1.000000\n1           3     1            4        4      4        0.500000\n2           8     1           11        9     21        0.300000\n3          14     1            1        0      1        0.000000\n4          16     3           23       23     27        0.460000\n...       ...   ...          ...      ...    ...             ...\n8908    26787     1            3        3      0        1.000000\n8909    26790     1            1        1      0        1.000000\n8910    26794     3           27       31      9        0.775000\n8911    26797     1            2        2      0        1.000000\n8912    26798     1            2        2      1        0.666667\n\n[8913 rows x 6 columns]",
      "text/html": "<div>\n<style scoped>\n    .dataframe tbody tr th:only-of-type {\n        vertical-align: middle;\n    }\n\n    .dataframe tbody tr th {\n        vertical-align: top;\n    }\n\n    .dataframe thead th {\n        text-align: right;\n    }\n</style>\n<table border=\"1\" class=\"dataframe\">\n  <thead>\n    <tr style=\"text-align: right;\">\n      <th></th>\n      <th>user_id</th>\n      <th>days</th>\n      <th>steps_tried</th>\n      <th>correct</th>\n      <th>wrong</th>\n      <th>correct_ration</th>\n    </tr>\n  </thead>\n  <tbody>\n    <tr>\n      <th>0</th>\n      <td>2</td>\n      <td>1</td>\n      <td>2</td>\n      <td>2</td>\n      <td>0</td>\n      <td>1.000000</td>\n    </tr>\n    <tr>\n      <th>1</th>\n      <td>3</td>\n      <td>1</td>\n      <td>4</td>\n      <td>4</td>\n      <td>4</td>\n      <td>0.500000</td>\n    </tr>\n    <tr>\n      <th>2</th>\n      <td>8</td>\n      <td>1</td>\n      <td>11</td>\n      <td>9</td>\n      <td>21</td>\n      <td>0.300000</td>\n    </tr>\n    <tr>\n      <th>3</th>\n      <td>14</td>\n      <td>1</td>\n      <td>1</td>\n      <td>0</td>\n      <td>1</td>\n      <td>0.000000</td>\n    </tr>\n    <tr>\n      <th>4</th>\n      <td>16</td>\n      <td>3</td>\n      <td>23</td>\n      <td>23</td>\n      <td>27</td>\n      <td>0.460000</td>\n    </tr>\n    <tr>\n      <th>...</th>\n      <td>...</td>\n      <td>...</td>\n      <td>...</td>\n      <td>...</td>\n      <td>...</td>\n      <td>...</td>\n    </tr>\n    <tr>\n      <th>8908</th>\n      <td>26787</td>\n      <td>1</td>\n      <td>3</td>\n      <td>3</td>\n      <td>0</td>\n      <td>1.000000</td>\n    </tr>\n    <tr>\n      <th>8909</th>\n      <td>26790</td>\n      <td>1</td>\n      <td>1</td>\n      <td>1</td>\n      <td>0</td>\n      <td>1.000000</td>\n    </tr>\n    <tr>\n      <th>8910</th>\n      <td>26794</td>\n      <td>3</td>\n      <td>27</td>\n      <td>31</td>\n      <td>9</td>\n      <td>0.775000</td>\n    </tr>\n    <tr>\n      <th>8911</th>\n      <td>26797</td>\n      <td>1</td>\n      <td>2</td>\n      <td>2</td>\n      <td>0</td>\n      <td>1.000000</td>\n    </tr>\n    <tr>\n      <th>8912</th>\n      <td>26798</td>\n      <td>1</td>\n      <td>2</td>\n      <td>2</td>\n      <td>1</td>\n      <td>0.666667</td>\n    </tr>\n  </tbody>\n</table>\n<p>8913 rows × 6 columns</p>\n</div>"
     },
     "execution_count": 442,
     "metadata": {},
     "output_type": "execute_result"
    }
   ],
   "source": [
    "X.fillna(0)"
   ],
   "metadata": {
    "collapsed": false,
    "ExecuteTime": {
     "end_time": "2023-07-04T19:47:48.785815800Z",
     "start_time": "2023-07-04T19:47:48.761184600Z"
    }
   }
  },
  {
   "cell_type": "code",
   "execution_count": 443,
   "outputs": [],
   "source": [
    "X = X.merge(users_data[['user_id', 'passed_course', 'is_gone_user']], how='outer')"
   ],
   "metadata": {
    "collapsed": false,
    "ExecuteTime": {
     "end_time": "2023-07-04T19:47:49.620242200Z",
     "start_time": "2023-07-04T19:47:49.607916100Z"
    }
   }
  },
  {
   "cell_type": "code",
   "execution_count": 444,
   "outputs": [],
   "source": [
    "X = X[~(X.is_gone_user == False) & (X.passed_course == False)]"
   ],
   "metadata": {
    "collapsed": false,
    "ExecuteTime": {
     "end_time": "2023-07-04T19:47:50.485964400Z",
     "start_time": "2023-07-04T19:47:50.453177Z"
    }
   }
  },
  {
   "cell_type": "code",
   "execution_count": 445,
   "outputs": [
    {
     "data": {
      "text/plain": "0        0\n1        0\n2        0\n3        0\n5        0\n        ..\n19228    0\n19229    0\n19231    0\n19232    0\n19233    0\nName: passed_course, Length: 16560, dtype: int64"
     },
     "execution_count": 445,
     "metadata": {},
     "output_type": "execute_result"
    }
   ],
   "source": [
    "y = X.passed_course.map(int)\n",
    "y"
   ],
   "metadata": {
    "collapsed": false,
    "ExecuteTime": {
     "end_time": "2023-07-04T19:47:52.602488300Z",
     "start_time": "2023-07-04T19:47:52.571548300Z"
    }
   }
  },
  {
   "cell_type": "code",
   "execution_count": 446,
   "outputs": [],
   "source": [
    "X = X.drop(['passed_course', 'is_gone_user'], axis=1)"
   ],
   "metadata": {
    "collapsed": false,
    "ExecuteTime": {
     "end_time": "2023-07-04T19:47:54.752322300Z",
     "start_time": "2023-07-04T19:47:54.741351800Z"
    }
   }
  },
  {
   "cell_type": "code",
   "execution_count": 447,
   "outputs": [],
   "source": [
    "X = X.set_index(X.user_id)\n",
    "X = X.drop(\"user_id\", axis=1)"
   ],
   "metadata": {
    "collapsed": false,
    "ExecuteTime": {
     "end_time": "2023-07-04T19:47:59.395534100Z",
     "start_time": "2023-07-04T19:47:59.361078400Z"
    }
   }
  },
  {
   "cell_type": "code",
   "execution_count": 417,
   "outputs": [
    {
     "data": {
      "text/plain": "         days  steps_tried  correct  wrong  correct_ration\nuser_id                                                   \n2         1.0          2.0      2.0    0.0             1.0\n3         1.0          4.0      4.0    4.0             0.5\n8         1.0         11.0      9.0   21.0             0.3\n14        1.0          1.0      0.0    1.0             0.0\n17        1.0          1.0      0.0    2.0             0.0",
      "text/html": "<div>\n<style scoped>\n    .dataframe tbody tr th:only-of-type {\n        vertical-align: middle;\n    }\n\n    .dataframe tbody tr th {\n        vertical-align: top;\n    }\n\n    .dataframe thead th {\n        text-align: right;\n    }\n</style>\n<table border=\"1\" class=\"dataframe\">\n  <thead>\n    <tr style=\"text-align: right;\">\n      <th></th>\n      <th>days</th>\n      <th>steps_tried</th>\n      <th>correct</th>\n      <th>wrong</th>\n      <th>correct_ration</th>\n    </tr>\n    <tr>\n      <th>user_id</th>\n      <th></th>\n      <th></th>\n      <th></th>\n      <th></th>\n      <th></th>\n    </tr>\n  </thead>\n  <tbody>\n    <tr>\n      <th>2</th>\n      <td>1.0</td>\n      <td>2.0</td>\n      <td>2.0</td>\n      <td>0.0</td>\n      <td>1.0</td>\n    </tr>\n    <tr>\n      <th>3</th>\n      <td>1.0</td>\n      <td>4.0</td>\n      <td>4.0</td>\n      <td>4.0</td>\n      <td>0.5</td>\n    </tr>\n    <tr>\n      <th>8</th>\n      <td>1.0</td>\n      <td>11.0</td>\n      <td>9.0</td>\n      <td>21.0</td>\n      <td>0.3</td>\n    </tr>\n    <tr>\n      <th>14</th>\n      <td>1.0</td>\n      <td>1.0</td>\n      <td>0.0</td>\n      <td>1.0</td>\n      <td>0.0</td>\n    </tr>\n    <tr>\n      <th>17</th>\n      <td>1.0</td>\n      <td>1.0</td>\n      <td>0.0</td>\n      <td>2.0</td>\n      <td>0.0</td>\n    </tr>\n  </tbody>\n</table>\n</div>"
     },
     "execution_count": 417,
     "metadata": {},
     "output_type": "execute_result"
    }
   ],
   "source": [
    "X.head()"
   ],
   "metadata": {
    "collapsed": false,
    "ExecuteTime": {
     "end_time": "2023-07-04T19:47:09.080687500Z",
     "start_time": "2023-07-04T19:47:09.059544300Z"
    }
   }
  },
  {
   "cell_type": "code",
   "execution_count": 418,
   "outputs": [
    {
     "data": {
      "text/plain": "0        0\n1        0\n2        0\n3        0\n5        0\n        ..\n19228    0\n19229    0\n19231    0\n19232    0\n19233    0\nName: passed_course, Length: 16560, dtype: int64"
     },
     "execution_count": 418,
     "metadata": {},
     "output_type": "execute_result"
    }
   ],
   "source": [
    "y"
   ],
   "metadata": {
    "collapsed": false,
    "ExecuteTime": {
     "end_time": "2023-07-04T19:47:10.620368Z",
     "start_time": "2023-07-04T19:47:10.591900800Z"
    }
   }
  },
  {
   "cell_type": "code",
   "execution_count": 448,
   "outputs": [
    {
     "data": {
      "text/plain": "              days  steps_tried     correct        wrong  correct_ration\ncount  6985.000000  6985.000000  6985.00000  6985.000000     6985.000000\nmean      1.406013     6.450394     6.35476     6.046385        0.721228\nstd       0.718411     7.230110     7.24384    12.508697        0.286809\nmin       1.000000     1.000000     0.00000     0.000000        0.000000\n25%       1.000000     2.000000     2.00000     0.000000        0.500000\n50%       1.000000     2.000000     2.00000     1.000000        0.750000\n75%       2.000000     9.000000     9.00000     6.000000        1.000000\nmax       4.000000    74.000000    68.00000   188.000000        1.000000",
      "text/html": "<div>\n<style scoped>\n    .dataframe tbody tr th:only-of-type {\n        vertical-align: middle;\n    }\n\n    .dataframe tbody tr th {\n        vertical-align: top;\n    }\n\n    .dataframe thead th {\n        text-align: right;\n    }\n</style>\n<table border=\"1\" class=\"dataframe\">\n  <thead>\n    <tr style=\"text-align: right;\">\n      <th></th>\n      <th>days</th>\n      <th>steps_tried</th>\n      <th>correct</th>\n      <th>wrong</th>\n      <th>correct_ration</th>\n    </tr>\n  </thead>\n  <tbody>\n    <tr>\n      <th>count</th>\n      <td>6985.000000</td>\n      <td>6985.000000</td>\n      <td>6985.00000</td>\n      <td>6985.000000</td>\n      <td>6985.000000</td>\n    </tr>\n    <tr>\n      <th>mean</th>\n      <td>1.406013</td>\n      <td>6.450394</td>\n      <td>6.35476</td>\n      <td>6.046385</td>\n      <td>0.721228</td>\n    </tr>\n    <tr>\n      <th>std</th>\n      <td>0.718411</td>\n      <td>7.230110</td>\n      <td>7.24384</td>\n      <td>12.508697</td>\n      <td>0.286809</td>\n    </tr>\n    <tr>\n      <th>min</th>\n      <td>1.000000</td>\n      <td>1.000000</td>\n      <td>0.00000</td>\n      <td>0.000000</td>\n      <td>0.000000</td>\n    </tr>\n    <tr>\n      <th>25%</th>\n      <td>1.000000</td>\n      <td>2.000000</td>\n      <td>2.00000</td>\n      <td>0.000000</td>\n      <td>0.500000</td>\n    </tr>\n    <tr>\n      <th>50%</th>\n      <td>1.000000</td>\n      <td>2.000000</td>\n      <td>2.00000</td>\n      <td>1.000000</td>\n      <td>0.750000</td>\n    </tr>\n    <tr>\n      <th>75%</th>\n      <td>2.000000</td>\n      <td>9.000000</td>\n      <td>9.00000</td>\n      <td>6.000000</td>\n      <td>1.000000</td>\n    </tr>\n    <tr>\n      <th>max</th>\n      <td>4.000000</td>\n      <td>74.000000</td>\n      <td>68.00000</td>\n      <td>188.000000</td>\n      <td>1.000000</td>\n    </tr>\n  </tbody>\n</table>\n</div>"
     },
     "execution_count": 448,
     "metadata": {},
     "output_type": "execute_result"
    }
   ],
   "source": [
    "X.describe()"
   ],
   "metadata": {
    "collapsed": false,
    "ExecuteTime": {
     "end_time": "2023-07-04T19:48:06.202439600Z",
     "start_time": "2023-07-04T19:48:06.158168800Z"
    }
   }
  },
  {
   "cell_type": "code",
   "execution_count": 379,
   "outputs": [
    {
     "data": {
      "text/plain": "days  steps_tried  correct  wrong  correct_ration\n1.0   2.0          2.0      0.0    1.000000          1964\n      1.0          1.0      0.0    1.000000           468\n      2.0          2.0      1.0    0.666667           344\n                            2.0    0.500000           120\n                            3.0    0.400000            86\n                                                     ... \n2.0   9.0          8.0      17.0   0.320000             1\n                            13.0   0.380952             1\n                            10.0   0.444444             1\n                            9.0    0.470588             1\n4.0   64.0         65.0     37.0   0.637255             1\nLength: 1831, dtype: int64"
     },
     "execution_count": 379,
     "metadata": {},
     "output_type": "execute_result"
    }
   ],
   "source": [
    "X.value_counts()"
   ],
   "metadata": {
    "collapsed": false,
    "ExecuteTime": {
     "end_time": "2023-07-04T19:43:43.489223700Z",
     "start_time": "2023-07-04T19:43:43.461240Z"
    }
   }
  },
  {
   "cell_type": "code",
   "execution_count": 380,
   "outputs": [
    {
     "data": {
      "text/plain": "days                4\nsteps_tried        56\ncorrect            56\nwrong              99\ncorrect_ration    582\ndtype: int64"
     },
     "execution_count": 380,
     "metadata": {},
     "output_type": "execute_result"
    }
   ],
   "source": [
    "X.nunique()"
   ],
   "metadata": {
    "collapsed": false,
    "ExecuteTime": {
     "end_time": "2023-07-04T19:43:45.271343800Z",
     "start_time": "2023-07-04T19:43:45.245749400Z"
    }
   }
  },
  {
   "cell_type": "code",
   "execution_count": 490,
   "outputs": [
    {
     "name": "stdout",
     "output_type": "stream",
     "text": [
      "16560\n",
      "16560\n"
     ]
    }
   ],
   "source": [
    "X = X.fillna(0)\n",
    "y = y.fillna(0)\n",
    "print(len(X))\n",
    "print(len(y))"
   ],
   "metadata": {
    "collapsed": false,
    "ExecuteTime": {
     "end_time": "2023-07-04T20:21:15.557230500Z",
     "start_time": "2023-07-04T20:21:15.533809900Z"
    }
   }
  },
  {
   "cell_type": "code",
   "execution_count": 482,
   "outputs": [
    {
     "name": "stdout",
     "output_type": "stream",
     "text": [
      "         days  steps_tried  correct  wrong  correct_ration\n",
      "user_id                                                   \n",
      "2         1.0          2.0      2.0    0.0             1.0\n",
      "3         1.0          4.0      4.0    4.0             0.5\n",
      "8         1.0         11.0      9.0   21.0             0.3\n",
      "14        1.0          1.0      0.0    1.0             0.0\n",
      "17        1.0          1.0      0.0    2.0             0.0\n",
      "...       ...          ...      ...    ...             ...\n",
      "26773     0.0          0.0      0.0    0.0             0.0\n",
      "26774     0.0          0.0      0.0    0.0             0.0\n",
      "26788     0.0          0.0      0.0    0.0             0.0\n",
      "26789     0.0          0.0      0.0    0.0             0.0\n",
      "26793     0.0          0.0      0.0    0.0             0.0\n",
      "\n",
      "[16560 rows x 5 columns]\n"
     ]
    }
   ],
   "source": [
    "\n",
    "from sklearn.model_selection import GridSearchCV, train_test_split\n",
    "from sklearn import tree\n",
    "from sklearn.model_selection import cross_val_score\n",
    "X_train, X_test, y_train, y_test = train_test_split(X, y, test_size=0.3)\n"
   ],
   "metadata": {
    "collapsed": false,
    "ExecuteTime": {
     "end_time": "2023-07-04T20:17:15.239262200Z",
     "start_time": "2023-07-04T20:17:15.213189800Z"
    }
   }
  },
  {
   "cell_type": "code",
   "execution_count": 488,
   "outputs": [
    {
     "name": "stdout",
     "output_type": "stream",
     "text": [
      "{'max_depth': 10, 'train_score': 1.0, 'test_score': 1.0, 'cross_val_score': 1.0}\n"
     ]
    }
   ],
   "source": [
    "scores_data = pd.DataFrame()\n",
    "# max_depth_values = [i for i in range(1, 100)]\n",
    "# for max_depth in max_depth_values:\n",
    "clf = tree.DecisionTreeClassifier(criterion='entropy', max_depth=15)\n",
    "clf.fit(X_train, y_train)\n",
    "train_score = clf.score(X_train, y_train)\n",
    "test_score = clf.score(X_test, y_test)\n",
    "\n",
    "mean_cross_val_score = cross_val_score(clf, X_train, y_train, cv=5).mean()\n",
    "\n",
    "print({'max_depth': [10][0],\n",
    "     'train_score': [train_score][0],\n",
    "     'test_score': [test_score][0],\n",
    "     'cross_val_score': [mean_cross_val_score][0]})\n",
    "#\n",
    "# scores_data_long = pd.melt(scores_data,\\\n",
    "#                            id_vars=['max_depth'],\\\n",
    "#                            value_vars=['train_score', 'test_score', 'cross_val_score'],\\\n",
    "#                            var_name='set_type',\\\n",
    "#                            value_name='score')\n",
    "#\n",
    "# sns.lineplot(x='max_depth', y='score', hue='set_type', data=scores_data_long)"
   ],
   "metadata": {
    "collapsed": false,
    "ExecuteTime": {
     "end_time": "2023-07-04T20:19:26.815214600Z",
     "start_time": "2023-07-04T20:19:26.773222300Z"
    }
   }
  },
  {
   "cell_type": "code",
   "execution_count": 476,
   "outputs": [
    {
     "data": {
      "text/plain": "max_depth          99\ntrain_score        99\ntest_score         99\ncross_val_score    99\ndtype: int64"
     },
     "execution_count": 476,
     "metadata": {},
     "output_type": "execute_result"
    }
   ],
   "source": [
    "scores_data.count()"
   ],
   "metadata": {
    "collapsed": false,
    "ExecuteTime": {
     "end_time": "2023-07-04T20:06:02.843073400Z",
     "start_time": "2023-07-04T20:06:02.810338500Z"
    }
   }
  },
  {
   "cell_type": "code",
   "execution_count": 477,
   "outputs": [
    {
     "data": {
      "text/plain": "max_depth    297\nset_type     297\nscore        297\ndtype: int64"
     },
     "execution_count": 477,
     "metadata": {},
     "output_type": "execute_result"
    }
   ],
   "source": [
    "scores_data_long.count()"
   ],
   "metadata": {
    "collapsed": false,
    "ExecuteTime": {
     "end_time": "2023-07-04T20:06:05.086657400Z",
     "start_time": "2023-07-04T20:06:05.074501200Z"
    }
   }
  }
 ],
 "metadata": {
  "kernelspec": {
   "display_name": "Python 3 (ipykernel)",
   "language": "python",
   "name": "python3"
  },
  "language_info": {
   "codemirror_mode": {
    "name": "ipython",
    "version": 3
   },
   "file_extension": ".py",
   "mimetype": "text/x-python",
   "name": "python",
   "nbconvert_exporter": "python",
   "pygments_lexer": "ipython3",
   "version": "3.11.0"
  }
 },
 "nbformat": 4,
 "nbformat_minor": 5
}
